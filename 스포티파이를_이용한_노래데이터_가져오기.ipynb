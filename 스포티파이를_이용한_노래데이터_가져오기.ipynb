{
  "nbformat": 4,
  "nbformat_minor": 0,
  "metadata": {
    "colab": {
      "provenance": [],
      "authorship_tag": "ABX9TyO++/6XDQqLliOKjhA45i1l",
      "include_colab_link": true
    },
    "kernelspec": {
      "name": "python3",
      "display_name": "Python 3"
    },
    "language_info": {
      "name": "python"
    }
  },
  "cells": [
    {
      "cell_type": "markdown",
      "metadata": {
        "id": "view-in-github",
        "colab_type": "text"
      },
      "source": [
        "<a href=\"https://colab.research.google.com/github/2heeng/ADP_Practical_Ex/blob/main/%EC%8A%A4%ED%8F%AC%ED%8B%B0%ED%8C%8C%EC%9D%B4%EB%A5%BC_%EC%9D%B4%EC%9A%A9%ED%95%9C_%EB%85%B8%EB%9E%98%EB%8D%B0%EC%9D%B4%ED%84%B0_%EA%B0%80%EC%A0%B8%EC%98%A4%EA%B8%B0.ipynb\" target=\"_parent\"><img src=\"https://colab.research.google.com/assets/colab-badge.svg\" alt=\"Open In Colab\"/></a>"
      ]
    },
    {
      "cell_type": "code",
      "execution_count": null,
      "metadata": {
        "colab": {
          "base_uri": "https://localhost:8080/"
        },
        "id": "Qww6HWrL4E2x",
        "outputId": "27475232-1410-46cb-bc1e-629124e3ba91"
      },
      "outputs": [
        {
          "output_type": "execute_result",
          "data": {
            "text/plain": [
              "{'access_token': 'BQCr4gkyM-xLlkRJV1J2oJeecXbpASLoTnrUDzFoArOrgpeNfYln2emyXLqg2xTPbcniTzw9YplQqtMwhYFinf-zqkNd2k1ClMy9lXzA90CgucO8Kko',\n",
              " 'token_type': 'Bearer',\n",
              " 'expires_in': 3600}"
            ]
          },
          "metadata": {},
          "execution_count": 3
        }
      ],
      "source": [
        "import requests\n",
        "\n",
        "## 자신의 Client ID와 Client Secret 입력\n",
        "CLIENT_ID = 'b187961c3f3f470194c1698d1fecf486'\n",
        "CLIENT_SECRET = '8edeb1070c324aadbd2c906152c322d1'\n",
        "\n",
        "url = 'https://accounts.spotify.com/api/token'\n",
        "\n",
        "auth_data = {'grant_type': 'client_credentials',\n",
        "              'client_id': CLIENT_ID,\n",
        "              'client_secret': CLIENT_SECRET}\n",
        "\n",
        "r = requests.post(url, data=auth_data) # POST 방법으로 응답을 요청\n",
        "r_token = r.json() # 응답 객체의 JSON 형식의 데이터를 딕셔너리 타입으로 변환\n",
        "r_token"
      ]
    },
    {
      "cell_type": "code",
      "source": [
        "def get_spotify_access_token(client_id, client_secret):\n",
        "\n",
        "    url = 'https://accounts.spotify.com/api/token'\n",
        "\n",
        "    auth_data = {'grant_type': 'client_credentials',\n",
        "                  'client_id': client_id,\n",
        "                  'client_secret': client_secret}\n",
        "\n",
        "    r = requests.post(url, data=auth_data) # POST 방법으로 응답을 요청\n",
        "    r_token = r.json() # 응답 객체의 text 부분을 JSON 형식으로 변환\n",
        "\n",
        "    return r_token['access_token']"
      ],
      "metadata": {
        "id": "Do88lEnJ-xfg"
      },
      "execution_count": null,
      "outputs": []
    },
    {
      "cell_type": "code",
      "source": [
        "ACCESS_TOKEN = get_spotify_access_token(CLIENT_ID, CLIENT_SECRET)\n",
        "ACCESS_TOKEN"
      ],
      "metadata": {
        "colab": {
          "base_uri": "https://localhost:8080/",
          "height": 35
        },
        "id": "hEg0Dae8-zUu",
        "outputId": "231ec3c9-ece9-44ed-aca1-4d9cff5ff13d"
      },
      "execution_count": null,
      "outputs": [
        {
          "output_type": "execute_result",
          "data": {
            "text/plain": [
              "'BQDkDFvhabtuClf7FPdJBpDNi9wbSTYjDD1JxnrmBqUC8YdkMdwmrlSw4qJyOjkgSKTplkAc1zbEqApIA3ccuBj-CuVnDLYPcbBWlvf6DuqZVsTFMl4'"
            ],
            "application/vnd.google.colaboratory.intrinsic+json": {
              "type": "string"
            }
          },
          "metadata": {},
          "execution_count": 5
        }
      ]
    },
    {
      "cell_type": "code",
      "source": [
        "import requests\n",
        "\n",
        "def get_spotify_artist_info(artist_id):\n",
        "    url = \"https://api.spotify.com/v1/artists/{id}\".format(id=artist_id)\n",
        "    ACCESS_TOKEN = get_spotify_access_token(CLIENT_ID, CLIENT_SECRET)\n",
        "    headers = {\"Authorization\": \"Bearer \" + ACCESS_TOKEN}\n",
        "\n",
        "    r = requests.get(url, headers=headers)\n",
        "\n",
        "    return r.json()"
      ],
      "metadata": {
        "id": "pQCTP9q9-3l-"
      },
      "execution_count": null,
      "outputs": []
    },
    {
      "cell_type": "code",
      "source": [
        "artist_id = \"3HqSLMAZ3g3d5poNaI7GOU\" # 아이유의 아티스트 ID\n",
        "artist_data = get_spotify_artist_info(artist_id)\n",
        "\n",
        "print(\"[아티스트 관련 정보]\")\n",
        "print(\"- 이름:\", artist_data['name'])\n",
        "print(\"- ID:\", artist_data['id'])\n",
        "print(\"- 장르:\", artist_data['genres'])\n",
        "print(\"- 인기도:\", artist_data['popularity'])"
      ],
      "metadata": {
        "colab": {
          "base_uri": "https://localhost:8080/"
        },
        "id": "VFTSB25x_cjX",
        "outputId": "b2d39015-f2a8-4ae3-bd11-d91911410a7b"
      },
      "execution_count": null,
      "outputs": [
        {
          "output_type": "stream",
          "name": "stdout",
          "text": [
            "[아티스트 관련 정보]\n",
            "- 이름: IU\n",
            "- ID: 3HqSLMAZ3g3d5poNaI7GOU\n",
            "- 장르: ['k-pop', 'pop']\n",
            "- 인기도: 69\n"
          ]
        }
      ]
    },
    {
      "cell_type": "code",
      "source": [
        "!sudo apt-get install -y fonts-nanum"
      ],
      "metadata": {
        "colab": {
          "base_uri": "https://localhost:8080/"
        },
        "id": "OHvey2RV_elu",
        "outputId": "9dc539e9-ec93-4be2-bc42-7946a9afddcd"
      },
      "execution_count": null,
      "outputs": [
        {
          "output_type": "stream",
          "name": "stdout",
          "text": [
            "Reading package lists... Done\n",
            "Building dependency tree... Done\n",
            "Reading state information... Done\n",
            "The following NEW packages will be installed:\n",
            "  fonts-nanum\n",
            "0 upgraded, 1 newly installed, 0 to remove and 45 not upgraded.\n",
            "Need to get 10.3 MB of archives.\n",
            "After this operation, 34.1 MB of additional disk space will be used.\n",
            "Get:1 http://archive.ubuntu.com/ubuntu jammy/universe amd64 fonts-nanum all 20200506-1 [10.3 MB]\n",
            "Fetched 10.3 MB in 2s (6,694 kB/s)\n",
            "debconf: unable to initialize frontend: Dialog\n",
            "debconf: (No usable dialog-like program is installed, so the dialog based frontend cannot be used. at /usr/share/perl5/Debconf/FrontEnd/Dialog.pm line 78, <> line 1.)\n",
            "debconf: falling back to frontend: Readline\n",
            "debconf: unable to initialize frontend: Readline\n",
            "debconf: (This frontend requires a controlling tty.)\n",
            "debconf: falling back to frontend: Teletype\n",
            "dpkg-preconfigure: unable to re-open stdin: \n",
            "Selecting previously unselected package fonts-nanum.\n",
            "(Reading database ... 121920 files and directories currently installed.)\n",
            "Preparing to unpack .../fonts-nanum_20200506-1_all.deb ...\n",
            "Unpacking fonts-nanum (20200506-1) ...\n",
            "Setting up fonts-nanum (20200506-1) ...\n",
            "Processing triggers for fontconfig (2.13.1-4.2ubuntu5) ...\n"
          ]
        }
      ]
    },
    {
      "cell_type": "code",
      "source": [
        "!sudo fc-cache -fv\n",
        "!rm ~/.cache/matplotlib -rf"
      ],
      "metadata": {
        "colab": {
          "base_uri": "https://localhost:8080/"
        },
        "id": "gbQ0N-CaDg5Y",
        "outputId": "6310f038-2b27-4367-91da-ab6a01e89480"
      },
      "execution_count": null,
      "outputs": [
        {
          "output_type": "stream",
          "name": "stdout",
          "text": [
            "/usr/share/fonts: caching, new cache contents: 0 fonts, 1 dirs\n",
            "/usr/share/fonts/truetype: caching, new cache contents: 0 fonts, 3 dirs\n",
            "/usr/share/fonts/truetype/humor-sans: caching, new cache contents: 1 fonts, 0 dirs\n",
            "/usr/share/fonts/truetype/liberation: caching, new cache contents: 16 fonts, 0 dirs\n",
            "/usr/share/fonts/truetype/nanum: caching, new cache contents: 12 fonts, 0 dirs\n",
            "/usr/local/share/fonts: caching, new cache contents: 0 fonts, 0 dirs\n",
            "/root/.local/share/fonts: skipping, no such directory\n",
            "/root/.fonts: skipping, no such directory\n",
            "/usr/share/fonts/truetype: skipping, looped directory detected\n",
            "/usr/share/fonts/truetype/humor-sans: skipping, looped directory detected\n",
            "/usr/share/fonts/truetype/liberation: skipping, looped directory detected\n",
            "/usr/share/fonts/truetype/nanum: skipping, looped directory detected\n",
            "/var/cache/fontconfig: cleaning cache directory\n",
            "/root/.cache/fontconfig: not cleaning non-existent cache directory\n",
            "/root/.fontconfig: not cleaning non-existent cache directory\n",
            "fc-cache: succeeded\n"
          ]
        }
      ]
    },
    {
      "cell_type": "code",
      "source": [],
      "metadata": {
        "id": "9Te1V5DdDsDX"
      },
      "execution_count": null,
      "outputs": []
    }
  ]
}