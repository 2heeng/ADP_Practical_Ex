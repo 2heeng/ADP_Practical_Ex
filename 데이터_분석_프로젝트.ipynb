{
  "cells": [
    {
      "cell_type": "markdown",
      "metadata": {
        "id": "view-in-github",
        "colab_type": "text"
      },
      "source": [
        "<a href=\"https://colab.research.google.com/github/2heeng/ADP_Practical_Ex/blob/main/%EB%8D%B0%EC%9D%B4%ED%84%B0_%EB%B6%84%EC%84%9D_%ED%94%84%EB%A1%9C%EC%A0%9D%ED%8A%B8.ipynb\" target=\"_parent\"><img src=\"https://colab.research.google.com/assets/colab-badge.svg\" alt=\"Open In Colab\"/></a>"
      ]
    },
    {
      "cell_type": "markdown",
      "id": "3bc4ecec",
      "metadata": {
        "id": "3bc4ecec"
      },
      "source": [
        "## 데이터 분석 프로젝트"
      ]
    },
    {
      "cell_type": "code",
      "execution_count": null,
      "id": "987c96ca",
      "metadata": {
        "id": "987c96ca"
      },
      "outputs": [],
      "source": [
        "import requests"
      ]
    },
    {
      "cell_type": "code",
      "execution_count": null,
      "id": "264eefc8",
      "metadata": {
        "id": "264eefc8"
      },
      "outputs": [],
      "source": [
        "url = 'https://github.com/wikibook/python-for-data-analysis-rev/raw/master/readme.txt'"
      ]
    },
    {
      "cell_type": "code",
      "execution_count": null,
      "id": "51051d77",
      "metadata": {
        "id": "51051d77"
      },
      "outputs": [],
      "source": [
        "# URL에 해당하는 파일을 내려받음\n",
        "r = requests.get(url)"
      ]
    },
    {
      "cell_type": "code",
      "execution_count": null,
      "id": "7f201e1f",
      "metadata": {
        "id": "7f201e1f"
      },
      "outputs": [],
      "source": [
        "# 파일을 저장할 폴더와 파일명을 지정\n",
        "file_name = 'C:/ex/py/myPyCode/data/readme.txt'"
      ]
    },
    {
      "cell_type": "code",
      "execution_count": null,
      "id": "29a14680",
      "metadata": {
        "id": "29a14680"
      },
      "outputs": [],
      "source": [
        "# 내려받은 파일을 지정한 폴더에 저장\n",
        "with open(file_name, 'wb') as f:\n",
        "    f.write(r.content)"
      ]
    },
    {
      "cell_type": "code",
      "execution_count": null,
      "id": "f9498d34",
      "metadata": {
        "id": "f9498d34"
      },
      "outputs": [],
      "source": [
        "import os"
      ]
    },
    {
      "cell_type": "code",
      "execution_count": null,
      "id": "c9107578",
      "metadata": {
        "id": "c9107578",
        "outputId": "81467d94-5ab6-4c83-8925-64a2d87ea2df"
      },
      "outputs": [
        {
          "name": "stdout",
          "output_type": "stream",
          "text": [
            "연도,제품1,제품2,제품3,제품4\n",
            "2015,250,150,,\n",
            "2016,200,160,170,\n",
            "2017,150,200,100,150\n",
            "2018,120,230,130,170\n",
            "2019,,250,140,\n"
          ]
        }
      ],
      "source": [
        "!type C:\\ex\\py\\myPyCode\\data\\missing_data_test.csv"
      ]
    },
    {
      "cell_type": "code",
      "execution_count": null,
      "id": "350e5edf",
      "metadata": {
        "id": "350e5edf"
      },
      "outputs": [],
      "source": [
        "import pandas as pd"
      ]
    },
    {
      "cell_type": "code",
      "execution_count": null,
      "id": "411b9f45",
      "metadata": {
        "id": "411b9f45"
      },
      "outputs": [],
      "source": [
        "data_file = \"C:/ex/py/myPyCode/data/missing_data_test.csv\""
      ]
    },
    {
      "cell_type": "code",
      "execution_count": null,
      "id": "6ea07a57",
      "metadata": {
        "id": "6ea07a57"
      },
      "outputs": [],
      "source": [
        "df = pd.read_csv(data_file, encoding = \"cp949\")"
      ]
    },
    {
      "cell_type": "code",
      "execution_count": null,
      "id": "b4630022",
      "metadata": {
        "id": "b4630022",
        "outputId": "f7dfc61d-7e22-4a11-85ac-2e1f58d91257"
      },
      "outputs": [
        {
          "data": {
            "text/html": [
              "<div>\n",
              "<style scoped>\n",
              "    .dataframe tbody tr th:only-of-type {\n",
              "        vertical-align: middle;\n",
              "    }\n",
              "\n",
              "    .dataframe tbody tr th {\n",
              "        vertical-align: top;\n",
              "    }\n",
              "\n",
              "    .dataframe thead th {\n",
              "        text-align: right;\n",
              "    }\n",
              "</style>\n",
              "<table border=\"1\" class=\"dataframe\">\n",
              "  <thead>\n",
              "    <tr style=\"text-align: right;\">\n",
              "      <th></th>\n",
              "      <th>제품1</th>\n",
              "      <th>제품2</th>\n",
              "      <th>제품3</th>\n",
              "      <th>제품4</th>\n",
              "    </tr>\n",
              "    <tr>\n",
              "      <th>연도</th>\n",
              "      <th></th>\n",
              "      <th></th>\n",
              "      <th></th>\n",
              "      <th></th>\n",
              "    </tr>\n",
              "  </thead>\n",
              "  <tbody>\n",
              "    <tr>\n",
              "      <th>2015</th>\n",
              "      <td>250.0</td>\n",
              "      <td>150</td>\n",
              "      <td>NaN</td>\n",
              "      <td>NaN</td>\n",
              "    </tr>\n",
              "    <tr>\n",
              "      <th>2016</th>\n",
              "      <td>200.0</td>\n",
              "      <td>160</td>\n",
              "      <td>170.0</td>\n",
              "      <td>NaN</td>\n",
              "    </tr>\n",
              "    <tr>\n",
              "      <th>2017</th>\n",
              "      <td>150.0</td>\n",
              "      <td>200</td>\n",
              "      <td>100.0</td>\n",
              "      <td>150.0</td>\n",
              "    </tr>\n",
              "    <tr>\n",
              "      <th>2018</th>\n",
              "      <td>120.0</td>\n",
              "      <td>230</td>\n",
              "      <td>130.0</td>\n",
              "      <td>170.0</td>\n",
              "    </tr>\n",
              "  </tbody>\n",
              "</table>\n",
              "</div>"
            ],
            "text/plain": [
              "        제품1  제품2    제품3    제품4\n",
              "연도                            \n",
              "2015  250.0  150    NaN    NaN\n",
              "2016  200.0  160  170.0    NaN\n",
              "2017  150.0  200  100.0  150.0\n",
              "2018  120.0  230  130.0  170.0"
            ]
          },
          "execution_count": 82,
          "metadata": {},
          "output_type": "execute_result"
        }
      ],
      "source": [
        "df"
      ]
    },
    {
      "cell_type": "code",
      "execution_count": null,
      "id": "12d7a5ef",
      "metadata": {
        "id": "12d7a5ef",
        "outputId": "923e2ffb-b1f1-4c16-9140-162a8b2f022c"
      },
      "outputs": [
        {
          "data": {
            "text/plain": [
              "pandas.core.frame.DataFrame"
            ]
          },
          "execution_count": 16,
          "metadata": {},
          "output_type": "execute_result"
        }
      ],
      "source": [
        "type(df)"
      ]
    },
    {
      "cell_type": "code",
      "execution_count": null,
      "id": "59536f95",
      "metadata": {
        "id": "59536f95",
        "outputId": "c18b3178-4526-4a2a-a55f-a90adcda322e"
      },
      "outputs": [
        {
          "data": {
            "text/plain": [
              "RangeIndex(start=0, stop=5, step=1)"
            ]
          },
          "execution_count": 17,
          "metadata": {},
          "output_type": "execute_result"
        }
      ],
      "source": [
        "df.index"
      ]
    },
    {
      "cell_type": "code",
      "execution_count": null,
      "id": "f09bf16e",
      "metadata": {
        "id": "f09bf16e",
        "outputId": "9cf30795-fc42-4fcd-d62d-598273eaa4d7"
      },
      "outputs": [
        {
          "data": {
            "text/plain": [
              "연도     2015.0\n",
              "제품1     250.0\n",
              "제품2     150.0\n",
              "제품3       NaN\n",
              "제품4       NaN\n",
              "Name: 0, dtype: float64"
            ]
          },
          "execution_count": 18,
          "metadata": {},
          "output_type": "execute_result"
        }
      ],
      "source": [
        "df.iloc[0]"
      ]
    },
    {
      "cell_type": "code",
      "execution_count": null,
      "id": "63900c65",
      "metadata": {
        "id": "63900c65",
        "outputId": "6edf57a7-506a-466f-8077-d8ea1cbb8b47"
      },
      "outputs": [
        {
          "data": {
            "text/plain": [
              "pandas.core.series.Series"
            ]
          },
          "execution_count": 19,
          "metadata": {},
          "output_type": "execute_result"
        }
      ],
      "source": [
        "type(df.iloc[0])"
      ]
    },
    {
      "cell_type": "code",
      "execution_count": null,
      "id": "5397bb4c",
      "metadata": {
        "id": "5397bb4c"
      },
      "outputs": [],
      "source": [
        "#series는 index가 있는 배열"
      ]
    },
    {
      "cell_type": "code",
      "execution_count": null,
      "id": "6de7122f",
      "metadata": {
        "id": "6de7122f",
        "outputId": "f6f60500-4411-43f9-fea8-cd1ca32b4345"
      },
      "outputs": [
        {
          "data": {
            "text/plain": [
              "Index(['연도', '제품1', '제품2', '제품3', '제품4'], dtype='object')"
            ]
          },
          "execution_count": 22,
          "metadata": {},
          "output_type": "execute_result"
        }
      ],
      "source": [
        "df.iloc[0].index"
      ]
    },
    {
      "cell_type": "code",
      "execution_count": null,
      "id": "98f86591",
      "metadata": {
        "id": "98f86591",
        "outputId": "689d67a7-2aa6-42df-fe66-96bd3af68bfa"
      },
      "outputs": [
        {
          "data": {
            "text/plain": [
              "0    2015\n",
              "1    2016\n",
              "2    2017\n",
              "3    2018\n",
              "4    2019\n",
              "Name: 연도, dtype: int64"
            ]
          },
          "execution_count": 23,
          "metadata": {},
          "output_type": "execute_result"
        }
      ],
      "source": [
        "df.연도"
      ]
    },
    {
      "cell_type": "code",
      "execution_count": null,
      "id": "c454f7d2",
      "metadata": {
        "id": "c454f7d2",
        "outputId": "8f1ebf9f-1e39-4f6a-c653-542fb49be4f7"
      },
      "outputs": [
        {
          "data": {
            "text/plain": [
              "0    2015\n",
              "1    2016\n",
              "2    2017\n",
              "3    2018\n",
              "4    2019\n",
              "Name: 연도, dtype: int64"
            ]
          },
          "execution_count": 24,
          "metadata": {},
          "output_type": "execute_result"
        }
      ],
      "source": [
        "df['연도']"
      ]
    },
    {
      "cell_type": "code",
      "execution_count": null,
      "id": "a5c68130",
      "metadata": {
        "id": "a5c68130",
        "outputId": "b4ff3e27-430f-4409-e912-38abfdc1962c"
      },
      "outputs": [
        {
          "data": {
            "text/html": [
              "<div>\n",
              "<style scoped>\n",
              "    .dataframe tbody tr th:only-of-type {\n",
              "        vertical-align: middle;\n",
              "    }\n",
              "\n",
              "    .dataframe tbody tr th {\n",
              "        vertical-align: top;\n",
              "    }\n",
              "\n",
              "    .dataframe thead th {\n",
              "        text-align: right;\n",
              "    }\n",
              "</style>\n",
              "<table border=\"1\" class=\"dataframe\">\n",
              "  <thead>\n",
              "    <tr style=\"text-align: right;\">\n",
              "      <th></th>\n",
              "      <th>연도</th>\n",
              "      <th>제품1</th>\n",
              "      <th>제품2</th>\n",
              "      <th>제품3</th>\n",
              "      <th>제품4</th>\n",
              "    </tr>\n",
              "  </thead>\n",
              "  <tbody>\n",
              "    <tr>\n",
              "      <th>0</th>\n",
              "      <td>2015</td>\n",
              "      <td>250.0</td>\n",
              "      <td>150</td>\n",
              "      <td>NaN</td>\n",
              "      <td>NaN</td>\n",
              "    </tr>\n",
              "    <tr>\n",
              "      <th>1</th>\n",
              "      <td>2016</td>\n",
              "      <td>200.0</td>\n",
              "      <td>160</td>\n",
              "      <td>170.0</td>\n",
              "      <td>NaN</td>\n",
              "    </tr>\n",
              "    <tr>\n",
              "      <th>2</th>\n",
              "      <td>2017</td>\n",
              "      <td>150.0</td>\n",
              "      <td>200</td>\n",
              "      <td>100.0</td>\n",
              "      <td>150.0</td>\n",
              "    </tr>\n",
              "    <tr>\n",
              "      <th>3</th>\n",
              "      <td>2018</td>\n",
              "      <td>120.0</td>\n",
              "      <td>230</td>\n",
              "      <td>130.0</td>\n",
              "      <td>170.0</td>\n",
              "    </tr>\n",
              "    <tr>\n",
              "      <th>4</th>\n",
              "      <td>2019</td>\n",
              "      <td>NaN</td>\n",
              "      <td>250</td>\n",
              "      <td>140.0</td>\n",
              "      <td>NaN</td>\n",
              "    </tr>\n",
              "  </tbody>\n",
              "</table>\n",
              "</div>"
            ],
            "text/plain": [
              "     연도    제품1  제품2    제품3    제품4\n",
              "0  2015  250.0  150    NaN    NaN\n",
              "1  2016  200.0  160  170.0    NaN\n",
              "2  2017  150.0  200  100.0  150.0\n",
              "3  2018  120.0  230  130.0  170.0\n",
              "4  2019    NaN  250  140.0    NaN"
            ]
          },
          "execution_count": 25,
          "metadata": {},
          "output_type": "execute_result"
        }
      ],
      "source": [
        "df"
      ]
    },
    {
      "cell_type": "code",
      "execution_count": null,
      "id": "80ef4233",
      "metadata": {
        "id": "80ef4233",
        "outputId": "adb53eec-156c-4416-dc9c-5faa34411f9e"
      },
      "outputs": [
        {
          "data": {
            "text/plain": [
              "연도     2017.0\n",
              "제품1     150.0\n",
              "제품2     200.0\n",
              "제품3     100.0\n",
              "제품4     150.0\n",
              "Name: 2, dtype: float64"
            ]
          },
          "execution_count": 26,
          "metadata": {},
          "output_type": "execute_result"
        }
      ],
      "source": [
        "df.iloc[2]"
      ]
    },
    {
      "cell_type": "code",
      "execution_count": null,
      "id": "bf1ab2da",
      "metadata": {
        "id": "bf1ab2da",
        "outputId": "8cad83af-5f91-4f42-e1bf-6bd0f529caba"
      },
      "outputs": [
        {
          "data": {
            "text/html": [
              "<div>\n",
              "<style scoped>\n",
              "    .dataframe tbody tr th:only-of-type {\n",
              "        vertical-align: middle;\n",
              "    }\n",
              "\n",
              "    .dataframe tbody tr th {\n",
              "        vertical-align: top;\n",
              "    }\n",
              "\n",
              "    .dataframe thead th {\n",
              "        text-align: right;\n",
              "    }\n",
              "</style>\n",
              "<table border=\"1\" class=\"dataframe\">\n",
              "  <thead>\n",
              "    <tr style=\"text-align: right;\">\n",
              "      <th></th>\n",
              "      <th>연도</th>\n",
              "      <th>제품1</th>\n",
              "      <th>제품2</th>\n",
              "      <th>제품3</th>\n",
              "      <th>제품4</th>\n",
              "    </tr>\n",
              "  </thead>\n",
              "  <tbody>\n",
              "    <tr>\n",
              "      <th>2</th>\n",
              "      <td>2017</td>\n",
              "      <td>150.0</td>\n",
              "      <td>200</td>\n",
              "      <td>100.0</td>\n",
              "      <td>150.0</td>\n",
              "    </tr>\n",
              "    <tr>\n",
              "      <th>3</th>\n",
              "      <td>2018</td>\n",
              "      <td>120.0</td>\n",
              "      <td>230</td>\n",
              "      <td>130.0</td>\n",
              "      <td>170.0</td>\n",
              "    </tr>\n",
              "  </tbody>\n",
              "</table>\n",
              "</div>"
            ],
            "text/plain": [
              "     연도    제품1  제품2    제품3    제품4\n",
              "2  2017  150.0  200  100.0  150.0\n",
              "3  2018  120.0  230  130.0  170.0"
            ]
          },
          "execution_count": 27,
          "metadata": {},
          "output_type": "execute_result"
        }
      ],
      "source": [
        "df.iloc[2:4]"
      ]
    },
    {
      "cell_type": "code",
      "execution_count": null,
      "id": "8c81a3bb",
      "metadata": {
        "id": "8c81a3bb",
        "outputId": "b2fc8d0b-b594-4837-eacc-15eb8570743d"
      },
      "outputs": [
        {
          "data": {
            "text/html": [
              "<div>\n",
              "<style scoped>\n",
              "    .dataframe tbody tr th:only-of-type {\n",
              "        vertical-align: middle;\n",
              "    }\n",
              "\n",
              "    .dataframe tbody tr th {\n",
              "        vertical-align: top;\n",
              "    }\n",
              "\n",
              "    .dataframe thead th {\n",
              "        text-align: right;\n",
              "    }\n",
              "</style>\n",
              "<table border=\"1\" class=\"dataframe\">\n",
              "  <thead>\n",
              "    <tr style=\"text-align: right;\">\n",
              "      <th></th>\n",
              "      <th>제품2</th>\n",
              "      <th>제품3</th>\n",
              "    </tr>\n",
              "  </thead>\n",
              "  <tbody>\n",
              "    <tr>\n",
              "      <th>2</th>\n",
              "      <td>200</td>\n",
              "      <td>100.0</td>\n",
              "    </tr>\n",
              "    <tr>\n",
              "      <th>3</th>\n",
              "      <td>230</td>\n",
              "      <td>130.0</td>\n",
              "    </tr>\n",
              "  </tbody>\n",
              "</table>\n",
              "</div>"
            ],
            "text/plain": [
              "   제품2    제품3\n",
              "2  200  100.0\n",
              "3  230  130.0"
            ]
          },
          "execution_count": 28,
          "metadata": {},
          "output_type": "execute_result"
        }
      ],
      "source": [
        "df.iloc[2:4,2:4]"
      ]
    },
    {
      "cell_type": "code",
      "execution_count": null,
      "id": "b7e96bda",
      "metadata": {
        "id": "b7e96bda",
        "outputId": "4989d708-9612-4834-cfcd-ea7cf06a33d8"
      },
      "outputs": [
        {
          "data": {
            "text/html": [
              "<div>\n",
              "<style scoped>\n",
              "    .dataframe tbody tr th:only-of-type {\n",
              "        vertical-align: middle;\n",
              "    }\n",
              "\n",
              "    .dataframe tbody tr th {\n",
              "        vertical-align: top;\n",
              "    }\n",
              "\n",
              "    .dataframe thead th {\n",
              "        text-align: right;\n",
              "    }\n",
              "</style>\n",
              "<table border=\"1\" class=\"dataframe\">\n",
              "  <thead>\n",
              "    <tr style=\"text-align: right;\">\n",
              "      <th></th>\n",
              "      <th>제품3</th>\n",
              "      <th>제품4</th>\n",
              "    </tr>\n",
              "  </thead>\n",
              "  <tbody>\n",
              "    <tr>\n",
              "      <th>0</th>\n",
              "      <td>NaN</td>\n",
              "      <td>NaN</td>\n",
              "    </tr>\n",
              "    <tr>\n",
              "      <th>1</th>\n",
              "      <td>170.0</td>\n",
              "      <td>NaN</td>\n",
              "    </tr>\n",
              "    <tr>\n",
              "      <th>2</th>\n",
              "      <td>100.0</td>\n",
              "      <td>150.0</td>\n",
              "    </tr>\n",
              "  </tbody>\n",
              "</table>\n",
              "</div>"
            ],
            "text/plain": [
              "     제품3    제품4\n",
              "0    NaN    NaN\n",
              "1  170.0    NaN\n",
              "2  100.0  150.0"
            ]
          },
          "execution_count": 29,
          "metadata": {},
          "output_type": "execute_result"
        }
      ],
      "source": [
        "df.iloc[0:3,3:5]"
      ]
    },
    {
      "cell_type": "code",
      "execution_count": null,
      "id": "9305d177",
      "metadata": {
        "id": "9305d177",
        "outputId": "08f33c91-86c8-4d08-bd4c-6f5400fdb5ad"
      },
      "outputs": [
        {
          "data": {
            "text/html": [
              "<div>\n",
              "<style scoped>\n",
              "    .dataframe tbody tr th:only-of-type {\n",
              "        vertical-align: middle;\n",
              "    }\n",
              "\n",
              "    .dataframe tbody tr th {\n",
              "        vertical-align: top;\n",
              "    }\n",
              "\n",
              "    .dataframe thead th {\n",
              "        text-align: right;\n",
              "    }\n",
              "</style>\n",
              "<table border=\"1\" class=\"dataframe\">\n",
              "  <thead>\n",
              "    <tr style=\"text-align: right;\">\n",
              "      <th></th>\n",
              "      <th>제품1</th>\n",
              "      <th>제품2</th>\n",
              "      <th>제품3</th>\n",
              "      <th>제품4</th>\n",
              "    </tr>\n",
              "    <tr>\n",
              "      <th>연도</th>\n",
              "      <th></th>\n",
              "      <th></th>\n",
              "      <th></th>\n",
              "      <th></th>\n",
              "    </tr>\n",
              "  </thead>\n",
              "  <tbody>\n",
              "    <tr>\n",
              "      <th>2015</th>\n",
              "      <td>250.0</td>\n",
              "      <td>150</td>\n",
              "      <td>NaN</td>\n",
              "      <td>NaN</td>\n",
              "    </tr>\n",
              "    <tr>\n",
              "      <th>2016</th>\n",
              "      <td>200.0</td>\n",
              "      <td>160</td>\n",
              "      <td>170.0</td>\n",
              "      <td>NaN</td>\n",
              "    </tr>\n",
              "    <tr>\n",
              "      <th>2017</th>\n",
              "      <td>150.0</td>\n",
              "      <td>200</td>\n",
              "      <td>100.0</td>\n",
              "      <td>150.0</td>\n",
              "    </tr>\n",
              "    <tr>\n",
              "      <th>2018</th>\n",
              "      <td>120.0</td>\n",
              "      <td>230</td>\n",
              "      <td>130.0</td>\n",
              "      <td>170.0</td>\n",
              "    </tr>\n",
              "    <tr>\n",
              "      <th>2019</th>\n",
              "      <td>NaN</td>\n",
              "      <td>250</td>\n",
              "      <td>140.0</td>\n",
              "      <td>NaN</td>\n",
              "    </tr>\n",
              "  </tbody>\n",
              "</table>\n",
              "</div>"
            ],
            "text/plain": [
              "        제품1  제품2    제품3    제품4\n",
              "연도                            \n",
              "2015  250.0  150    NaN    NaN\n",
              "2016  200.0  160  170.0    NaN\n",
              "2017  150.0  200  100.0  150.0\n",
              "2018  120.0  230  130.0  170.0\n",
              "2019    NaN  250  140.0    NaN"
            ]
          },
          "execution_count": 30,
          "metadata": {},
          "output_type": "execute_result"
        }
      ],
      "source": [
        "df.set_index('연도')"
      ]
    },
    {
      "cell_type": "code",
      "execution_count": null,
      "id": "6095774c",
      "metadata": {
        "id": "6095774c"
      },
      "outputs": [],
      "source": [
        "df=df.set_index('연도')"
      ]
    },
    {
      "cell_type": "code",
      "execution_count": null,
      "id": "9e014a58",
      "metadata": {
        "id": "9e014a58",
        "outputId": "9843cd40-a288-489d-829d-0f862701aed3"
      },
      "outputs": [
        {
          "data": {
            "text/html": [
              "<div>\n",
              "<style scoped>\n",
              "    .dataframe tbody tr th:only-of-type {\n",
              "        vertical-align: middle;\n",
              "    }\n",
              "\n",
              "    .dataframe tbody tr th {\n",
              "        vertical-align: top;\n",
              "    }\n",
              "\n",
              "    .dataframe thead th {\n",
              "        text-align: right;\n",
              "    }\n",
              "</style>\n",
              "<table border=\"1\" class=\"dataframe\">\n",
              "  <thead>\n",
              "    <tr style=\"text-align: right;\">\n",
              "      <th></th>\n",
              "      <th>제품1</th>\n",
              "      <th>제품2</th>\n",
              "      <th>제품3</th>\n",
              "      <th>제품4</th>\n",
              "    </tr>\n",
              "    <tr>\n",
              "      <th>연도</th>\n",
              "      <th></th>\n",
              "      <th></th>\n",
              "      <th></th>\n",
              "      <th></th>\n",
              "    </tr>\n",
              "  </thead>\n",
              "  <tbody>\n",
              "    <tr>\n",
              "      <th>2015</th>\n",
              "      <td>250.0</td>\n",
              "      <td>150</td>\n",
              "      <td>NaN</td>\n",
              "      <td>NaN</td>\n",
              "    </tr>\n",
              "    <tr>\n",
              "      <th>2016</th>\n",
              "      <td>200.0</td>\n",
              "      <td>160</td>\n",
              "      <td>170.0</td>\n",
              "      <td>NaN</td>\n",
              "    </tr>\n",
              "    <tr>\n",
              "      <th>2017</th>\n",
              "      <td>150.0</td>\n",
              "      <td>200</td>\n",
              "      <td>100.0</td>\n",
              "      <td>150.0</td>\n",
              "    </tr>\n",
              "    <tr>\n",
              "      <th>2018</th>\n",
              "      <td>120.0</td>\n",
              "      <td>230</td>\n",
              "      <td>130.0</td>\n",
              "      <td>170.0</td>\n",
              "    </tr>\n",
              "    <tr>\n",
              "      <th>2019</th>\n",
              "      <td>NaN</td>\n",
              "      <td>250</td>\n",
              "      <td>140.0</td>\n",
              "      <td>NaN</td>\n",
              "    </tr>\n",
              "  </tbody>\n",
              "</table>\n",
              "</div>"
            ],
            "text/plain": [
              "        제품1  제품2    제품3    제품4\n",
              "연도                            \n",
              "2015  250.0  150    NaN    NaN\n",
              "2016  200.0  160  170.0    NaN\n",
              "2017  150.0  200  100.0  150.0\n",
              "2018  120.0  230  130.0  170.0\n",
              "2019    NaN  250  140.0    NaN"
            ]
          },
          "execution_count": 33,
          "metadata": {},
          "output_type": "execute_result"
        }
      ],
      "source": [
        "df"
      ]
    },
    {
      "cell_type": "code",
      "execution_count": null,
      "id": "7b44745a",
      "metadata": {
        "id": "7b44745a",
        "outputId": "f7764db4-25ec-45bc-a365-86f73ae67315"
      },
      "outputs": [
        {
          "data": {
            "text/plain": [
              "nan"
            ]
          },
          "execution_count": 34,
          "metadata": {},
          "output_type": "execute_result"
        }
      ],
      "source": [
        "df.loc[2015,'제품3']"
      ]
    },
    {
      "cell_type": "code",
      "execution_count": null,
      "id": "5c0f2377",
      "metadata": {
        "id": "5c0f2377",
        "outputId": "42d5b1ec-a42e-4f2f-a344-a45da30f5fb5"
      },
      "outputs": [
        {
          "data": {
            "text/html": [
              "<div>\n",
              "<style scoped>\n",
              "    .dataframe tbody tr th:only-of-type {\n",
              "        vertical-align: middle;\n",
              "    }\n",
              "\n",
              "    .dataframe tbody tr th {\n",
              "        vertical-align: top;\n",
              "    }\n",
              "\n",
              "    .dataframe thead th {\n",
              "        text-align: right;\n",
              "    }\n",
              "</style>\n",
              "<table border=\"1\" class=\"dataframe\">\n",
              "  <thead>\n",
              "    <tr style=\"text-align: right;\">\n",
              "      <th></th>\n",
              "      <th>제품3</th>\n",
              "      <th>제품4</th>\n",
              "    </tr>\n",
              "    <tr>\n",
              "      <th>연도</th>\n",
              "      <th></th>\n",
              "      <th></th>\n",
              "    </tr>\n",
              "  </thead>\n",
              "  <tbody>\n",
              "    <tr>\n",
              "      <th>2015</th>\n",
              "      <td>NaN</td>\n",
              "      <td>NaN</td>\n",
              "    </tr>\n",
              "    <tr>\n",
              "      <th>2016</th>\n",
              "      <td>170.0</td>\n",
              "      <td>NaN</td>\n",
              "    </tr>\n",
              "    <tr>\n",
              "      <th>2017</th>\n",
              "      <td>100.0</td>\n",
              "      <td>150.0</td>\n",
              "    </tr>\n",
              "  </tbody>\n",
              "</table>\n",
              "</div>"
            ],
            "text/plain": [
              "        제품3    제품4\n",
              "연도                \n",
              "2015    NaN    NaN\n",
              "2016  170.0    NaN\n",
              "2017  100.0  150.0"
            ]
          },
          "execution_count": 35,
          "metadata": {},
          "output_type": "execute_result"
        }
      ],
      "source": [
        "df.loc[[2015,2016,2017],['제품3','제품4']]"
      ]
    },
    {
      "cell_type": "code",
      "execution_count": null,
      "id": "81449a95",
      "metadata": {
        "id": "81449a95",
        "outputId": "166e5c1c-14a1-4e0e-f846-6c309d19cbc9"
      },
      "outputs": [
        {
          "data": {
            "text/html": [
              "<div>\n",
              "<style scoped>\n",
              "    .dataframe tbody tr th:only-of-type {\n",
              "        vertical-align: middle;\n",
              "    }\n",
              "\n",
              "    .dataframe tbody tr th {\n",
              "        vertical-align: top;\n",
              "    }\n",
              "\n",
              "    .dataframe thead th {\n",
              "        text-align: right;\n",
              "    }\n",
              "</style>\n",
              "<table border=\"1\" class=\"dataframe\">\n",
              "  <thead>\n",
              "    <tr style=\"text-align: right;\">\n",
              "      <th></th>\n",
              "      <th>제품1</th>\n",
              "      <th>제품2</th>\n",
              "      <th>제품3</th>\n",
              "      <th>제품4</th>\n",
              "    </tr>\n",
              "  </thead>\n",
              "  <tbody>\n",
              "    <tr>\n",
              "      <th>count</th>\n",
              "      <td>4.000000</td>\n",
              "      <td>5.000000</td>\n",
              "      <td>4.000000</td>\n",
              "      <td>2.000000</td>\n",
              "    </tr>\n",
              "    <tr>\n",
              "      <th>mean</th>\n",
              "      <td>180.000000</td>\n",
              "      <td>198.000000</td>\n",
              "      <td>135.000000</td>\n",
              "      <td>160.000000</td>\n",
              "    </tr>\n",
              "    <tr>\n",
              "      <th>std</th>\n",
              "      <td>57.154761</td>\n",
              "      <td>43.243497</td>\n",
              "      <td>28.867513</td>\n",
              "      <td>14.142136</td>\n",
              "    </tr>\n",
              "    <tr>\n",
              "      <th>min</th>\n",
              "      <td>120.000000</td>\n",
              "      <td>150.000000</td>\n",
              "      <td>100.000000</td>\n",
              "      <td>150.000000</td>\n",
              "    </tr>\n",
              "    <tr>\n",
              "      <th>25%</th>\n",
              "      <td>142.500000</td>\n",
              "      <td>160.000000</td>\n",
              "      <td>122.500000</td>\n",
              "      <td>155.000000</td>\n",
              "    </tr>\n",
              "    <tr>\n",
              "      <th>50%</th>\n",
              "      <td>175.000000</td>\n",
              "      <td>200.000000</td>\n",
              "      <td>135.000000</td>\n",
              "      <td>160.000000</td>\n",
              "    </tr>\n",
              "    <tr>\n",
              "      <th>75%</th>\n",
              "      <td>212.500000</td>\n",
              "      <td>230.000000</td>\n",
              "      <td>147.500000</td>\n",
              "      <td>165.000000</td>\n",
              "    </tr>\n",
              "    <tr>\n",
              "      <th>max</th>\n",
              "      <td>250.000000</td>\n",
              "      <td>250.000000</td>\n",
              "      <td>170.000000</td>\n",
              "      <td>170.000000</td>\n",
              "    </tr>\n",
              "  </tbody>\n",
              "</table>\n",
              "</div>"
            ],
            "text/plain": [
              "              제품1         제품2         제품3         제품4\n",
              "count    4.000000    5.000000    4.000000    2.000000\n",
              "mean   180.000000  198.000000  135.000000  160.000000\n",
              "std     57.154761   43.243497   28.867513   14.142136\n",
              "min    120.000000  150.000000  100.000000  150.000000\n",
              "25%    142.500000  160.000000  122.500000  155.000000\n",
              "50%    175.000000  200.000000  135.000000  160.000000\n",
              "75%    212.500000  230.000000  147.500000  165.000000\n",
              "max    250.000000  250.000000  170.000000  170.000000"
            ]
          },
          "execution_count": 36,
          "metadata": {},
          "output_type": "execute_result"
        }
      ],
      "source": [
        "df.describe()"
      ]
    },
    {
      "cell_type": "code",
      "execution_count": null,
      "id": "fae986d7",
      "metadata": {
        "id": "fae986d7",
        "outputId": "57ab3e07-809c-44a2-9893-31cc204c83fb"
      },
      "outputs": [
        {
          "data": {
            "text/plain": [
              "array([150., 200., 100., 150.])"
            ]
          },
          "execution_count": 38,
          "metadata": {},
          "output_type": "execute_result"
        }
      ],
      "source": [
        "df.loc[2017].values"
      ]
    },
    {
      "cell_type": "code",
      "execution_count": null,
      "id": "59cc1ae3",
      "metadata": {
        "id": "59cc1ae3"
      },
      "outputs": [],
      "source": [
        "#2017년 평균구하기"
      ]
    },
    {
      "cell_type": "code",
      "execution_count": null,
      "id": "e72b1296",
      "metadata": {
        "id": "e72b1296"
      },
      "outputs": [],
      "source": [
        "avg = (150+200+100+150)/4"
      ]
    },
    {
      "cell_type": "code",
      "execution_count": null,
      "id": "de4ab86b",
      "metadata": {
        "id": "de4ab86b",
        "outputId": "0057e9e6-f584-4b35-8734-a1c4147aae47"
      },
      "outputs": [
        {
          "data": {
            "text/plain": [
              "150.0"
            ]
          },
          "execution_count": 41,
          "metadata": {},
          "output_type": "execute_result"
        }
      ],
      "source": [
        "avg"
      ]
    },
    {
      "cell_type": "code",
      "execution_count": null,
      "id": "f207d2f7",
      "metadata": {
        "id": "f207d2f7",
        "outputId": "c0e6df4a-2601-415b-ac14-9fe2b9901901"
      },
      "outputs": [
        {
          "data": {
            "text/plain": [
              "연도\n",
              "2015    150\n",
              "2016    160\n",
              "2017    200\n",
              "2018    230\n",
              "2019    250\n",
              "Name: 제품2, dtype: int64"
            ]
          },
          "execution_count": 42,
          "metadata": {},
          "output_type": "execute_result"
        }
      ],
      "source": [
        "df.제품2"
      ]
    },
    {
      "cell_type": "code",
      "execution_count": null,
      "id": "08deb88c",
      "metadata": {
        "id": "08deb88c"
      },
      "outputs": [],
      "source": [
        "import numpy as np"
      ]
    },
    {
      "cell_type": "code",
      "execution_count": null,
      "id": "62a8ca82",
      "metadata": {
        "id": "62a8ca82",
        "outputId": "4bb98609-3b79-458f-cb3e-8ef131c7e288"
      },
      "outputs": [
        {
          "data": {
            "text/plain": [
              "198.0"
            ]
          },
          "execution_count": 45,
          "metadata": {},
          "output_type": "execute_result"
        }
      ],
      "source": [
        "np.mean(df.제품2) #평균"
      ]
    },
    {
      "cell_type": "code",
      "execution_count": null,
      "id": "240ada72",
      "metadata": {
        "id": "240ada72"
      },
      "outputs": [],
      "source": [
        "avg=np.mean(df.제품2)"
      ]
    },
    {
      "cell_type": "code",
      "execution_count": null,
      "id": "34897027",
      "metadata": {
        "id": "34897027"
      },
      "outputs": [],
      "source": [
        "deviation=avg-df.제품2.values #편차(deviation)"
      ]
    },
    {
      "cell_type": "code",
      "execution_count": null,
      "id": "4cfe2874",
      "metadata": {
        "id": "4cfe2874",
        "outputId": "a1c023bc-e143-4881-e90b-276b87e73318"
      },
      "outputs": [
        {
          "data": {
            "text/plain": [
              "array([ 48.,  38.,  -2., -32., -52.])"
            ]
          },
          "execution_count": 49,
          "metadata": {},
          "output_type": "execute_result"
        }
      ],
      "source": [
        "deviation"
      ]
    },
    {
      "cell_type": "code",
      "execution_count": null,
      "id": "17090886",
      "metadata": {
        "id": "17090886",
        "outputId": "b78fa6ad-7b39-46c3-934e-cec23de02302"
      },
      "outputs": [
        {
          "data": {
            "text/plain": [
              "array([2304., 1444.,    4., 1024., 2704.])"
            ]
          },
          "execution_count": 50,
          "metadata": {},
          "output_type": "execute_result"
        }
      ],
      "source": [
        "deviation**2"
      ]
    },
    {
      "cell_type": "code",
      "execution_count": null,
      "id": "c93711ed",
      "metadata": {
        "id": "c93711ed",
        "outputId": "c5a39906-c658-4e7e-80cd-d816905eb061"
      },
      "outputs": [
        {
          "data": {
            "text/plain": [
              "7480.0"
            ]
          },
          "execution_count": 51,
          "metadata": {},
          "output_type": "execute_result"
        }
      ],
      "source": [
        "np.sum(deviation**2)"
      ]
    },
    {
      "cell_type": "code",
      "execution_count": null,
      "id": "a8ed8bd1",
      "metadata": {
        "id": "a8ed8bd1",
        "outputId": "19c709bf-5775-49a6-f893-84cdd5a9fbb3"
      },
      "outputs": [
        {
          "data": {
            "text/plain": [
              "1870.0"
            ]
          },
          "execution_count": 52,
          "metadata": {},
          "output_type": "execute_result"
        }
      ],
      "source": [
        "df.제품2.var() #분산"
      ]
    },
    {
      "cell_type": "code",
      "execution_count": null,
      "id": "6691397b",
      "metadata": {
        "id": "6691397b",
        "outputId": "10efc7a7-b2e3-4f45-af39-61d3de528107"
      },
      "outputs": [
        {
          "data": {
            "text/plain": [
              "43.243496620879306"
            ]
          },
          "execution_count": 53,
          "metadata": {},
          "output_type": "execute_result"
        }
      ],
      "source": [
        "np.sqrt(df.제품2.var() )"
      ]
    },
    {
      "cell_type": "code",
      "execution_count": null,
      "id": "9296a99a",
      "metadata": {
        "id": "9296a99a"
      },
      "outputs": [],
      "source": [
        "#분산(variation)에다가 제곱근 -> 표준편차(standard deviation)"
      ]
    },
    {
      "cell_type": "code",
      "execution_count": null,
      "id": "9ffd14dc",
      "metadata": {
        "id": "9ffd14dc",
        "outputId": "b6f5d7aa-8219-4141-a188-993e2a2f65c1"
      },
      "outputs": [
        {
          "data": {
            "text/plain": [
              "1496.0"
            ]
          },
          "execution_count": 54,
          "metadata": {},
          "output_type": "execute_result"
        }
      ],
      "source": [
        "np.sum(deviation**2)/5"
      ]
    },
    {
      "cell_type": "code",
      "execution_count": null,
      "id": "26580b2f",
      "metadata": {
        "id": "26580b2f",
        "outputId": "090bd501-364b-44c9-f070-11f26defc5ee"
      },
      "outputs": [
        {
          "data": {
            "text/html": [
              "<div>\n",
              "<style scoped>\n",
              "    .dataframe tbody tr th:only-of-type {\n",
              "        vertical-align: middle;\n",
              "    }\n",
              "\n",
              "    .dataframe tbody tr th {\n",
              "        vertical-align: top;\n",
              "    }\n",
              "\n",
              "    .dataframe thead th {\n",
              "        text-align: right;\n",
              "    }\n",
              "</style>\n",
              "<table border=\"1\" class=\"dataframe\">\n",
              "  <thead>\n",
              "    <tr style=\"text-align: right;\">\n",
              "      <th></th>\n",
              "      <th>제품1</th>\n",
              "      <th>제품2</th>\n",
              "      <th>제품3</th>\n",
              "      <th>제품4</th>\n",
              "    </tr>\n",
              "    <tr>\n",
              "      <th>연도</th>\n",
              "      <th></th>\n",
              "      <th></th>\n",
              "      <th></th>\n",
              "      <th></th>\n",
              "    </tr>\n",
              "  </thead>\n",
              "  <tbody>\n",
              "    <tr>\n",
              "      <th>2015</th>\n",
              "      <td>250.0</td>\n",
              "      <td>150</td>\n",
              "      <td>NaN</td>\n",
              "      <td>NaN</td>\n",
              "    </tr>\n",
              "    <tr>\n",
              "      <th>2016</th>\n",
              "      <td>200.0</td>\n",
              "      <td>160</td>\n",
              "      <td>170.0</td>\n",
              "      <td>NaN</td>\n",
              "    </tr>\n",
              "    <tr>\n",
              "      <th>2017</th>\n",
              "      <td>150.0</td>\n",
              "      <td>200</td>\n",
              "      <td>100.0</td>\n",
              "      <td>150.0</td>\n",
              "    </tr>\n",
              "    <tr>\n",
              "      <th>2018</th>\n",
              "      <td>120.0</td>\n",
              "      <td>230</td>\n",
              "      <td>130.0</td>\n",
              "      <td>170.0</td>\n",
              "    </tr>\n",
              "    <tr>\n",
              "      <th>2019</th>\n",
              "      <td>NaN</td>\n",
              "      <td>250</td>\n",
              "      <td>140.0</td>\n",
              "      <td>NaN</td>\n",
              "    </tr>\n",
              "  </tbody>\n",
              "</table>\n",
              "</div>"
            ],
            "text/plain": [
              "        제품1  제품2    제품3    제품4\n",
              "연도                            \n",
              "2015  250.0  150    NaN    NaN\n",
              "2016  200.0  160  170.0    NaN\n",
              "2017  150.0  200  100.0  150.0\n",
              "2018  120.0  230  130.0  170.0\n",
              "2019    NaN  250  140.0    NaN"
            ]
          },
          "execution_count": 55,
          "metadata": {},
          "output_type": "execute_result"
        }
      ],
      "source": [
        "df"
      ]
    },
    {
      "cell_type": "code",
      "execution_count": null,
      "id": "eed4d26c",
      "metadata": {
        "id": "eed4d26c",
        "outputId": "a41fd865-a4f6-46c7-ea0d-aee644652495"
      },
      "outputs": [
        {
          "data": {
            "text/html": [
              "<div>\n",
              "<style scoped>\n",
              "    .dataframe tbody tr th:only-of-type {\n",
              "        vertical-align: middle;\n",
              "    }\n",
              "\n",
              "    .dataframe tbody tr th {\n",
              "        vertical-align: top;\n",
              "    }\n",
              "\n",
              "    .dataframe thead th {\n",
              "        text-align: right;\n",
              "    }\n",
              "</style>\n",
              "<table border=\"1\" class=\"dataframe\">\n",
              "  <thead>\n",
              "    <tr style=\"text-align: right;\">\n",
              "      <th></th>\n",
              "      <th>제품1</th>\n",
              "      <th>제품2</th>\n",
              "      <th>제품3</th>\n",
              "      <th>제품4</th>\n",
              "    </tr>\n",
              "    <tr>\n",
              "      <th>연도</th>\n",
              "      <th></th>\n",
              "      <th></th>\n",
              "      <th></th>\n",
              "      <th></th>\n",
              "    </tr>\n",
              "  </thead>\n",
              "  <tbody>\n",
              "    <tr>\n",
              "      <th>2015</th>\n",
              "      <td>False</td>\n",
              "      <td>False</td>\n",
              "      <td>True</td>\n",
              "      <td>True</td>\n",
              "    </tr>\n",
              "    <tr>\n",
              "      <th>2016</th>\n",
              "      <td>False</td>\n",
              "      <td>False</td>\n",
              "      <td>False</td>\n",
              "      <td>True</td>\n",
              "    </tr>\n",
              "    <tr>\n",
              "      <th>2017</th>\n",
              "      <td>False</td>\n",
              "      <td>False</td>\n",
              "      <td>False</td>\n",
              "      <td>False</td>\n",
              "    </tr>\n",
              "    <tr>\n",
              "      <th>2018</th>\n",
              "      <td>False</td>\n",
              "      <td>False</td>\n",
              "      <td>False</td>\n",
              "      <td>False</td>\n",
              "    </tr>\n",
              "    <tr>\n",
              "      <th>2019</th>\n",
              "      <td>True</td>\n",
              "      <td>False</td>\n",
              "      <td>False</td>\n",
              "      <td>True</td>\n",
              "    </tr>\n",
              "  </tbody>\n",
              "</table>\n",
              "</div>"
            ],
            "text/plain": [
              "        제품1    제품2    제품3    제품4\n",
              "연도                              \n",
              "2015  False  False   True   True\n",
              "2016  False  False  False   True\n",
              "2017  False  False  False  False\n",
              "2018  False  False  False  False\n",
              "2019   True  False  False   True"
            ]
          },
          "execution_count": 56,
          "metadata": {},
          "output_type": "execute_result"
        }
      ],
      "source": [
        "df.isnull()"
      ]
    },
    {
      "cell_type": "code",
      "execution_count": null,
      "id": "8a920d73",
      "metadata": {
        "id": "8a920d73",
        "outputId": "5c29ee4b-6383-4c76-ab09-0155631f4478"
      },
      "outputs": [
        {
          "data": {
            "text/plain": [
              "제품1    1\n",
              "제품2    0\n",
              "제품3    1\n",
              "제품4    3\n",
              "dtype: int64"
            ]
          },
          "execution_count": 57,
          "metadata": {},
          "output_type": "execute_result"
        }
      ],
      "source": [
        "df.isnull().sum()"
      ]
    },
    {
      "cell_type": "code",
      "execution_count": null,
      "id": "80f53e02",
      "metadata": {
        "id": "80f53e02",
        "outputId": "f6899179-af31-48b7-8699-ced5304ffdbf"
      },
      "outputs": [
        {
          "name": "stdout",
          "output_type": "stream",
          "text": [
            "Help on method drop in module pandas.core.frame:\n",
            "\n",
            "drop(labels: 'IndexLabel' = None, *, axis: 'Axis' = 0, index: 'IndexLabel' = None, columns: 'IndexLabel' = None, level: 'Level' = None, inplace: 'bool' = False, errors: 'IgnoreRaise' = 'raise') -> 'DataFrame | None' method of pandas.core.frame.DataFrame instance\n",
            "    Drop specified labels from rows or columns.\n",
            "    \n",
            "    Remove rows or columns by specifying label names and corresponding\n",
            "    axis, or by specifying directly index or column names. When using a\n",
            "    multi-index, labels on different levels can be removed by specifying\n",
            "    the level. See the :ref:`user guide <advanced.shown_levels>`\n",
            "    for more information about the now unused levels.\n",
            "    \n",
            "    Parameters\n",
            "    ----------\n",
            "    labels : single label or list-like\n",
            "        Index or column labels to drop. A tuple will be used as a single\n",
            "        label and not treated as a list-like.\n",
            "    axis : {0 or 'index', 1 or 'columns'}, default 0\n",
            "        Whether to drop labels from the index (0 or 'index') or\n",
            "        columns (1 or 'columns').\n",
            "    index : single label or list-like\n",
            "        Alternative to specifying axis (``labels, axis=0``\n",
            "        is equivalent to ``index=labels``).\n",
            "    columns : single label or list-like\n",
            "        Alternative to specifying axis (``labels, axis=1``\n",
            "        is equivalent to ``columns=labels``).\n",
            "    level : int or level name, optional\n",
            "        For MultiIndex, level from which the labels will be removed.\n",
            "    inplace : bool, default False\n",
            "        If False, return a copy. Otherwise, do operation\n",
            "        inplace and return None.\n",
            "    errors : {'ignore', 'raise'}, default 'raise'\n",
            "        If 'ignore', suppress error and only existing labels are\n",
            "        dropped.\n",
            "    \n",
            "    Returns\n",
            "    -------\n",
            "    DataFrame or None\n",
            "        DataFrame without the removed index or column labels or\n",
            "        None if ``inplace=True``.\n",
            "    \n",
            "    Raises\n",
            "    ------\n",
            "    KeyError\n",
            "        If any of the labels is not found in the selected axis.\n",
            "    \n",
            "    See Also\n",
            "    --------\n",
            "    DataFrame.loc : Label-location based indexer for selection by label.\n",
            "    DataFrame.dropna : Return DataFrame with labels on given axis omitted\n",
            "        where (all or any) data are missing.\n",
            "    DataFrame.drop_duplicates : Return DataFrame with duplicate rows\n",
            "        removed, optionally only considering certain columns.\n",
            "    Series.drop : Return Series with specified index labels removed.\n",
            "    \n",
            "    Examples\n",
            "    --------\n",
            "    >>> df = pd.DataFrame(np.arange(12).reshape(3, 4),\n",
            "    ...                   columns=['A', 'B', 'C', 'D'])\n",
            "    >>> df\n",
            "       A  B   C   D\n",
            "    0  0  1   2   3\n",
            "    1  4  5   6   7\n",
            "    2  8  9  10  11\n",
            "    \n",
            "    Drop columns\n",
            "    \n",
            "    >>> df.drop(['B', 'C'], axis=1)\n",
            "       A   D\n",
            "    0  0   3\n",
            "    1  4   7\n",
            "    2  8  11\n",
            "    \n",
            "    >>> df.drop(columns=['B', 'C'])\n",
            "       A   D\n",
            "    0  0   3\n",
            "    1  4   7\n",
            "    2  8  11\n",
            "    \n",
            "    Drop a row by index\n",
            "    \n",
            "    >>> df.drop([0, 1])\n",
            "       A  B   C   D\n",
            "    2  8  9  10  11\n",
            "    \n",
            "    Drop columns and/or rows of MultiIndex DataFrame\n",
            "    \n",
            "    >>> midx = pd.MultiIndex(levels=[['lama', 'cow', 'falcon'],\n",
            "    ...                              ['speed', 'weight', 'length']],\n",
            "    ...                      codes=[[0, 0, 0, 1, 1, 1, 2, 2, 2],\n",
            "    ...                             [0, 1, 2, 0, 1, 2, 0, 1, 2]])\n",
            "    >>> df = pd.DataFrame(index=midx, columns=['big', 'small'],\n",
            "    ...                   data=[[45, 30], [200, 100], [1.5, 1], [30, 20],\n",
            "    ...                         [250, 150], [1.5, 0.8], [320, 250],\n",
            "    ...                         [1, 0.8], [0.3, 0.2]])\n",
            "    >>> df\n",
            "                    big     small\n",
            "    lama    speed   45.0    30.0\n",
            "            weight  200.0   100.0\n",
            "            length  1.5     1.0\n",
            "    cow     speed   30.0    20.0\n",
            "            weight  250.0   150.0\n",
            "            length  1.5     0.8\n",
            "    falcon  speed   320.0   250.0\n",
            "            weight  1.0     0.8\n",
            "            length  0.3     0.2\n",
            "    \n",
            "    Drop a specific index combination from the MultiIndex\n",
            "    DataFrame, i.e., drop the combination ``'falcon'`` and\n",
            "    ``'weight'``, which deletes only the corresponding row\n",
            "    \n",
            "    >>> df.drop(index=('falcon', 'weight'))\n",
            "                    big     small\n",
            "    lama    speed   45.0    30.0\n",
            "            weight  200.0   100.0\n",
            "            length  1.5     1.0\n",
            "    cow     speed   30.0    20.0\n",
            "            weight  250.0   150.0\n",
            "            length  1.5     0.8\n",
            "    falcon  speed   320.0   250.0\n",
            "            length  0.3     0.2\n",
            "    \n",
            "    >>> df.drop(index='cow', columns='small')\n",
            "                    big\n",
            "    lama    speed   45.0\n",
            "            weight  200.0\n",
            "            length  1.5\n",
            "    falcon  speed   320.0\n",
            "            weight  1.0\n",
            "            length  0.3\n",
            "    \n",
            "    >>> df.drop(index='length', level=1)\n",
            "                    big     small\n",
            "    lama    speed   45.0    30.0\n",
            "            weight  200.0   100.0\n",
            "    cow     speed   30.0    20.0\n",
            "            weight  250.0   150.0\n",
            "    falcon  speed   320.0   250.0\n",
            "            weight  1.0     0.8\n",
            "\n"
          ]
        }
      ],
      "source": [
        "help(df.drop)"
      ]
    },
    {
      "cell_type": "code",
      "execution_count": null,
      "id": "c4ea5b9d",
      "metadata": {
        "id": "c4ea5b9d"
      },
      "outputs": [],
      "source": [
        "df=df.drop(index=[2019])"
      ]
    },
    {
      "cell_type": "code",
      "execution_count": null,
      "id": "39d2ec43",
      "metadata": {
        "id": "39d2ec43",
        "outputId": "b495227a-abe9-4a40-a998-9d32355775f6"
      },
      "outputs": [
        {
          "data": {
            "text/html": [
              "<div>\n",
              "<style scoped>\n",
              "    .dataframe tbody tr th:only-of-type {\n",
              "        vertical-align: middle;\n",
              "    }\n",
              "\n",
              "    .dataframe tbody tr th {\n",
              "        vertical-align: top;\n",
              "    }\n",
              "\n",
              "    .dataframe thead th {\n",
              "        text-align: right;\n",
              "    }\n",
              "</style>\n",
              "<table border=\"1\" class=\"dataframe\">\n",
              "  <thead>\n",
              "    <tr style=\"text-align: right;\">\n",
              "      <th></th>\n",
              "      <th>제품1</th>\n",
              "      <th>제품2</th>\n",
              "      <th>제품3</th>\n",
              "      <th>제품4</th>\n",
              "    </tr>\n",
              "    <tr>\n",
              "      <th>연도</th>\n",
              "      <th></th>\n",
              "      <th></th>\n",
              "      <th></th>\n",
              "      <th></th>\n",
              "    </tr>\n",
              "  </thead>\n",
              "  <tbody>\n",
              "    <tr>\n",
              "      <th>2015</th>\n",
              "      <td>250.0</td>\n",
              "      <td>150</td>\n",
              "      <td>NaN</td>\n",
              "      <td>NaN</td>\n",
              "    </tr>\n",
              "    <tr>\n",
              "      <th>2016</th>\n",
              "      <td>200.0</td>\n",
              "      <td>160</td>\n",
              "      <td>170.0</td>\n",
              "      <td>NaN</td>\n",
              "    </tr>\n",
              "    <tr>\n",
              "      <th>2017</th>\n",
              "      <td>150.0</td>\n",
              "      <td>200</td>\n",
              "      <td>100.0</td>\n",
              "      <td>150.0</td>\n",
              "    </tr>\n",
              "    <tr>\n",
              "      <th>2018</th>\n",
              "      <td>120.0</td>\n",
              "      <td>230</td>\n",
              "      <td>130.0</td>\n",
              "      <td>170.0</td>\n",
              "    </tr>\n",
              "  </tbody>\n",
              "</table>\n",
              "</div>"
            ],
            "text/plain": [
              "        제품1  제품2    제품3    제품4\n",
              "연도                            \n",
              "2015  250.0  150    NaN    NaN\n",
              "2016  200.0  160  170.0    NaN\n",
              "2017  150.0  200  100.0  150.0\n",
              "2018  120.0  230  130.0  170.0"
            ]
          },
          "execution_count": 60,
          "metadata": {},
          "output_type": "execute_result"
        }
      ],
      "source": [
        "df"
      ]
    },
    {
      "cell_type": "code",
      "execution_count": null,
      "id": "40af9aa8",
      "metadata": {
        "id": "40af9aa8"
      },
      "outputs": [],
      "source": [
        "df2=df.drop(columns=['제품3','제품4'])"
      ]
    },
    {
      "cell_type": "code",
      "execution_count": null,
      "id": "affbabfa",
      "metadata": {
        "id": "affbabfa",
        "outputId": "4bfcf0c9-b337-4a09-d6ec-419a54610429"
      },
      "outputs": [
        {
          "data": {
            "text/html": [
              "<div>\n",
              "<style scoped>\n",
              "    .dataframe tbody tr th:only-of-type {\n",
              "        vertical-align: middle;\n",
              "    }\n",
              "\n",
              "    .dataframe tbody tr th {\n",
              "        vertical-align: top;\n",
              "    }\n",
              "\n",
              "    .dataframe thead th {\n",
              "        text-align: right;\n",
              "    }\n",
              "</style>\n",
              "<table border=\"1\" class=\"dataframe\">\n",
              "  <thead>\n",
              "    <tr style=\"text-align: right;\">\n",
              "      <th></th>\n",
              "      <th>제품1</th>\n",
              "      <th>제품2</th>\n",
              "    </tr>\n",
              "    <tr>\n",
              "      <th>연도</th>\n",
              "      <th></th>\n",
              "      <th></th>\n",
              "    </tr>\n",
              "  </thead>\n",
              "  <tbody>\n",
              "    <tr>\n",
              "      <th>2015</th>\n",
              "      <td>250.0</td>\n",
              "      <td>150</td>\n",
              "    </tr>\n",
              "    <tr>\n",
              "      <th>2016</th>\n",
              "      <td>200.0</td>\n",
              "      <td>160</td>\n",
              "    </tr>\n",
              "    <tr>\n",
              "      <th>2017</th>\n",
              "      <td>150.0</td>\n",
              "      <td>200</td>\n",
              "    </tr>\n",
              "    <tr>\n",
              "      <th>2018</th>\n",
              "      <td>120.0</td>\n",
              "      <td>230</td>\n",
              "    </tr>\n",
              "  </tbody>\n",
              "</table>\n",
              "</div>"
            ],
            "text/plain": [
              "        제품1  제품2\n",
              "연도              \n",
              "2015  250.0  150\n",
              "2016  200.0  160\n",
              "2017  150.0  200\n",
              "2018  120.0  230"
            ]
          },
          "execution_count": 63,
          "metadata": {},
          "output_type": "execute_result"
        }
      ],
      "source": [
        "df2"
      ]
    },
    {
      "cell_type": "code",
      "execution_count": null,
      "id": "11997cc7",
      "metadata": {
        "id": "11997cc7"
      },
      "outputs": [],
      "source": [
        "df_copy=df.copy()"
      ]
    },
    {
      "cell_type": "code",
      "execution_count": null,
      "id": "b44b4385",
      "metadata": {
        "id": "b44b4385",
        "outputId": "c46658a4-d500-432d-9dc2-b9568b99b360"
      },
      "outputs": [
        {
          "data": {
            "text/html": [
              "<div>\n",
              "<style scoped>\n",
              "    .dataframe tbody tr th:only-of-type {\n",
              "        vertical-align: middle;\n",
              "    }\n",
              "\n",
              "    .dataframe tbody tr th {\n",
              "        vertical-align: top;\n",
              "    }\n",
              "\n",
              "    .dataframe thead th {\n",
              "        text-align: right;\n",
              "    }\n",
              "</style>\n",
              "<table border=\"1\" class=\"dataframe\">\n",
              "  <thead>\n",
              "    <tr style=\"text-align: right;\">\n",
              "      <th></th>\n",
              "      <th>제품1</th>\n",
              "      <th>제품2</th>\n",
              "      <th>제품3</th>\n",
              "      <th>제품4</th>\n",
              "    </tr>\n",
              "    <tr>\n",
              "      <th>연도</th>\n",
              "      <th></th>\n",
              "      <th></th>\n",
              "      <th></th>\n",
              "      <th></th>\n",
              "    </tr>\n",
              "  </thead>\n",
              "  <tbody>\n",
              "    <tr>\n",
              "      <th>2017</th>\n",
              "      <td>150.0</td>\n",
              "      <td>200</td>\n",
              "      <td>100.0</td>\n",
              "      <td>150.0</td>\n",
              "    </tr>\n",
              "    <tr>\n",
              "      <th>2018</th>\n",
              "      <td>120.0</td>\n",
              "      <td>230</td>\n",
              "      <td>130.0</td>\n",
              "      <td>170.0</td>\n",
              "    </tr>\n",
              "  </tbody>\n",
              "</table>\n",
              "</div>"
            ],
            "text/plain": [
              "        제품1  제품2    제품3    제품4\n",
              "연도                            \n",
              "2017  150.0  200  100.0  150.0\n",
              "2018  120.0  230  130.0  170.0"
            ]
          },
          "execution_count": 66,
          "metadata": {},
          "output_type": "execute_result"
        }
      ],
      "source": [
        "df_copy.dropna()"
      ]
    },
    {
      "cell_type": "code",
      "execution_count": null,
      "id": "17ed5e42",
      "metadata": {
        "id": "17ed5e42"
      },
      "outputs": [],
      "source": [
        "df_copy2=df.copy()"
      ]
    },
    {
      "cell_type": "code",
      "execution_count": null,
      "id": "947a9cfd",
      "metadata": {
        "id": "947a9cfd",
        "outputId": "dedec17b-cffd-452f-c002-df3e679038f5"
      },
      "outputs": [
        {
          "data": {
            "text/html": [
              "<div>\n",
              "<style scoped>\n",
              "    .dataframe tbody tr th:only-of-type {\n",
              "        vertical-align: middle;\n",
              "    }\n",
              "\n",
              "    .dataframe tbody tr th {\n",
              "        vertical-align: top;\n",
              "    }\n",
              "\n",
              "    .dataframe thead th {\n",
              "        text-align: right;\n",
              "    }\n",
              "</style>\n",
              "<table border=\"1\" class=\"dataframe\">\n",
              "  <thead>\n",
              "    <tr style=\"text-align: right;\">\n",
              "      <th></th>\n",
              "      <th>제품1</th>\n",
              "      <th>제품2</th>\n",
              "    </tr>\n",
              "    <tr>\n",
              "      <th>연도</th>\n",
              "      <th></th>\n",
              "      <th></th>\n",
              "    </tr>\n",
              "  </thead>\n",
              "  <tbody>\n",
              "    <tr>\n",
              "      <th>2015</th>\n",
              "      <td>250.0</td>\n",
              "      <td>150</td>\n",
              "    </tr>\n",
              "    <tr>\n",
              "      <th>2016</th>\n",
              "      <td>200.0</td>\n",
              "      <td>160</td>\n",
              "    </tr>\n",
              "    <tr>\n",
              "      <th>2017</th>\n",
              "      <td>150.0</td>\n",
              "      <td>200</td>\n",
              "    </tr>\n",
              "    <tr>\n",
              "      <th>2018</th>\n",
              "      <td>120.0</td>\n",
              "      <td>230</td>\n",
              "    </tr>\n",
              "  </tbody>\n",
              "</table>\n",
              "</div>"
            ],
            "text/plain": [
              "        제품1  제품2\n",
              "연도              \n",
              "2015  250.0  150\n",
              "2016  200.0  160\n",
              "2017  150.0  200\n",
              "2018  120.0  230"
            ]
          },
          "execution_count": 68,
          "metadata": {},
          "output_type": "execute_result"
        }
      ],
      "source": [
        "df_copy2.dropna(axis=1) #0은 행을 삭제, 1은 축(세로)을 삭제"
      ]
    },
    {
      "cell_type": "code",
      "execution_count": null,
      "id": "028c2cf5",
      "metadata": {
        "id": "028c2cf5"
      },
      "outputs": [],
      "source": [
        "df_copy3=df.copy()"
      ]
    },
    {
      "cell_type": "code",
      "execution_count": null,
      "id": "240f16a5",
      "metadata": {
        "id": "240f16a5",
        "outputId": "c8be15a7-5990-4bf2-920c-763de2b5676b"
      },
      "outputs": [
        {
          "data": {
            "text/html": [
              "<div>\n",
              "<style scoped>\n",
              "    .dataframe tbody tr th:only-of-type {\n",
              "        vertical-align: middle;\n",
              "    }\n",
              "\n",
              "    .dataframe tbody tr th {\n",
              "        vertical-align: top;\n",
              "    }\n",
              "\n",
              "    .dataframe thead th {\n",
              "        text-align: right;\n",
              "    }\n",
              "</style>\n",
              "<table border=\"1\" class=\"dataframe\">\n",
              "  <thead>\n",
              "    <tr style=\"text-align: right;\">\n",
              "      <th></th>\n",
              "      <th>제품1</th>\n",
              "      <th>제품2</th>\n",
              "      <th>제품3</th>\n",
              "      <th>제품4</th>\n",
              "    </tr>\n",
              "    <tr>\n",
              "      <th>연도</th>\n",
              "      <th></th>\n",
              "      <th></th>\n",
              "      <th></th>\n",
              "      <th></th>\n",
              "    </tr>\n",
              "  </thead>\n",
              "  <tbody>\n",
              "    <tr>\n",
              "      <th>2015</th>\n",
              "      <td>250.0</td>\n",
              "      <td>150</td>\n",
              "      <td>NaN</td>\n",
              "      <td>NaN</td>\n",
              "    </tr>\n",
              "    <tr>\n",
              "      <th>2016</th>\n",
              "      <td>200.0</td>\n",
              "      <td>160</td>\n",
              "      <td>170.0</td>\n",
              "      <td>NaN</td>\n",
              "    </tr>\n",
              "    <tr>\n",
              "      <th>2017</th>\n",
              "      <td>150.0</td>\n",
              "      <td>200</td>\n",
              "      <td>100.0</td>\n",
              "      <td>150.0</td>\n",
              "    </tr>\n",
              "    <tr>\n",
              "      <th>2018</th>\n",
              "      <td>120.0</td>\n",
              "      <td>230</td>\n",
              "      <td>130.0</td>\n",
              "      <td>170.0</td>\n",
              "    </tr>\n",
              "  </tbody>\n",
              "</table>\n",
              "</div>"
            ],
            "text/plain": [
              "        제품1  제품2    제품3    제품4\n",
              "연도                            \n",
              "2015  250.0  150    NaN    NaN\n",
              "2016  200.0  160  170.0    NaN\n",
              "2017  150.0  200  100.0  150.0\n",
              "2018  120.0  230  130.0  170.0"
            ]
          },
          "execution_count": 70,
          "metadata": {},
          "output_type": "execute_result"
        }
      ],
      "source": [
        "df_copy3"
      ]
    },
    {
      "cell_type": "code",
      "execution_count": null,
      "id": "0d8ab751",
      "metadata": {
        "id": "0d8ab751",
        "outputId": "452aa4fa-c7e0-4553-b301-feadacb8fb26"
      },
      "outputs": [
        {
          "data": {
            "text/html": [
              "<div>\n",
              "<style scoped>\n",
              "    .dataframe tbody tr th:only-of-type {\n",
              "        vertical-align: middle;\n",
              "    }\n",
              "\n",
              "    .dataframe tbody tr th {\n",
              "        vertical-align: top;\n",
              "    }\n",
              "\n",
              "    .dataframe thead th {\n",
              "        text-align: right;\n",
              "    }\n",
              "</style>\n",
              "<table border=\"1\" class=\"dataframe\">\n",
              "  <thead>\n",
              "    <tr style=\"text-align: right;\">\n",
              "      <th></th>\n",
              "      <th>제품1</th>\n",
              "      <th>제품2</th>\n",
              "    </tr>\n",
              "    <tr>\n",
              "      <th>연도</th>\n",
              "      <th></th>\n",
              "      <th></th>\n",
              "    </tr>\n",
              "  </thead>\n",
              "  <tbody>\n",
              "    <tr>\n",
              "      <th>2015</th>\n",
              "      <td>250.0</td>\n",
              "      <td>150</td>\n",
              "    </tr>\n",
              "    <tr>\n",
              "      <th>2016</th>\n",
              "      <td>200.0</td>\n",
              "      <td>160</td>\n",
              "    </tr>\n",
              "    <tr>\n",
              "      <th>2017</th>\n",
              "      <td>150.0</td>\n",
              "      <td>200</td>\n",
              "    </tr>\n",
              "    <tr>\n",
              "      <th>2018</th>\n",
              "      <td>120.0</td>\n",
              "      <td>230</td>\n",
              "    </tr>\n",
              "  </tbody>\n",
              "</table>\n",
              "</div>"
            ],
            "text/plain": [
              "        제품1  제품2\n",
              "연도              \n",
              "2015  250.0  150\n",
              "2016  200.0  160\n",
              "2017  150.0  200\n",
              "2018  120.0  230"
            ]
          },
          "execution_count": 71,
          "metadata": {},
          "output_type": "execute_result"
        }
      ],
      "source": [
        "df_copy3.dropna(axis=1,subset=[2015])"
      ]
    },
    {
      "cell_type": "code",
      "execution_count": null,
      "id": "e3caaeab",
      "metadata": {
        "id": "e3caaeab"
      },
      "outputs": [],
      "source": [
        "df_copy4=df.copy()"
      ]
    },
    {
      "cell_type": "code",
      "execution_count": null,
      "id": "a336a250",
      "metadata": {
        "id": "a336a250",
        "outputId": "e580fd17-c39a-4353-f639-81744632fe64"
      },
      "outputs": [
        {
          "data": {
            "text/html": [
              "<div>\n",
              "<style scoped>\n",
              "    .dataframe tbody tr th:only-of-type {\n",
              "        vertical-align: middle;\n",
              "    }\n",
              "\n",
              "    .dataframe tbody tr th {\n",
              "        vertical-align: top;\n",
              "    }\n",
              "\n",
              "    .dataframe thead th {\n",
              "        text-align: right;\n",
              "    }\n",
              "</style>\n",
              "<table border=\"1\" class=\"dataframe\">\n",
              "  <thead>\n",
              "    <tr style=\"text-align: right;\">\n",
              "      <th></th>\n",
              "      <th>제품1</th>\n",
              "      <th>제품2</th>\n",
              "      <th>제품3</th>\n",
              "    </tr>\n",
              "    <tr>\n",
              "      <th>연도</th>\n",
              "      <th></th>\n",
              "      <th></th>\n",
              "      <th></th>\n",
              "    </tr>\n",
              "  </thead>\n",
              "  <tbody>\n",
              "    <tr>\n",
              "      <th>2015</th>\n",
              "      <td>250.0</td>\n",
              "      <td>150</td>\n",
              "      <td>NaN</td>\n",
              "    </tr>\n",
              "    <tr>\n",
              "      <th>2016</th>\n",
              "      <td>200.0</td>\n",
              "      <td>160</td>\n",
              "      <td>170.0</td>\n",
              "    </tr>\n",
              "    <tr>\n",
              "      <th>2017</th>\n",
              "      <td>150.0</td>\n",
              "      <td>200</td>\n",
              "      <td>100.0</td>\n",
              "    </tr>\n",
              "    <tr>\n",
              "      <th>2018</th>\n",
              "      <td>120.0</td>\n",
              "      <td>230</td>\n",
              "      <td>130.0</td>\n",
              "    </tr>\n",
              "  </tbody>\n",
              "</table>\n",
              "</div>"
            ],
            "text/plain": [
              "        제품1  제품2    제품3\n",
              "연도                     \n",
              "2015  250.0  150    NaN\n",
              "2016  200.0  160  170.0\n",
              "2017  150.0  200  100.0\n",
              "2018  120.0  230  130.0"
            ]
          },
          "execution_count": 76,
          "metadata": {},
          "output_type": "execute_result"
        }
      ],
      "source": [
        "df_copy4.dropna(axis=1,subset=[2016,2018])"
      ]
    },
    {
      "cell_type": "code",
      "execution_count": null,
      "id": "57e89e8a",
      "metadata": {
        "id": "57e89e8a",
        "outputId": "b4aa0ecc-1b0b-4cf6-a1a4-cfd1aa504940"
      },
      "outputs": [
        {
          "data": {
            "text/html": [
              "<div>\n",
              "<style scoped>\n",
              "    .dataframe tbody tr th:only-of-type {\n",
              "        vertical-align: middle;\n",
              "    }\n",
              "\n",
              "    .dataframe tbody tr th {\n",
              "        vertical-align: top;\n",
              "    }\n",
              "\n",
              "    .dataframe thead th {\n",
              "        text-align: right;\n",
              "    }\n",
              "</style>\n",
              "<table border=\"1\" class=\"dataframe\">\n",
              "  <thead>\n",
              "    <tr style=\"text-align: right;\">\n",
              "      <th></th>\n",
              "      <th>제품1</th>\n",
              "      <th>제품2</th>\n",
              "      <th>제품3</th>\n",
              "      <th>제품4</th>\n",
              "    </tr>\n",
              "    <tr>\n",
              "      <th>연도</th>\n",
              "      <th></th>\n",
              "      <th></th>\n",
              "      <th></th>\n",
              "      <th></th>\n",
              "    </tr>\n",
              "  </thead>\n",
              "  <tbody>\n",
              "    <tr>\n",
              "      <th>2015</th>\n",
              "      <td>250.0</td>\n",
              "      <td>150</td>\n",
              "      <td>NaN</td>\n",
              "      <td>NaN</td>\n",
              "    </tr>\n",
              "    <tr>\n",
              "      <th>2016</th>\n",
              "      <td>200.0</td>\n",
              "      <td>160</td>\n",
              "      <td>170.0</td>\n",
              "      <td>NaN</td>\n",
              "    </tr>\n",
              "    <tr>\n",
              "      <th>2017</th>\n",
              "      <td>150.0</td>\n",
              "      <td>200</td>\n",
              "      <td>100.0</td>\n",
              "      <td>150.0</td>\n",
              "    </tr>\n",
              "    <tr>\n",
              "      <th>2018</th>\n",
              "      <td>120.0</td>\n",
              "      <td>230</td>\n",
              "      <td>130.0</td>\n",
              "      <td>170.0</td>\n",
              "    </tr>\n",
              "  </tbody>\n",
              "</table>\n",
              "</div>"
            ],
            "text/plain": [
              "        제품1  제품2    제품3    제품4\n",
              "연도                            \n",
              "2015  250.0  150    NaN    NaN\n",
              "2016  200.0  160  170.0    NaN\n",
              "2017  150.0  200  100.0  150.0\n",
              "2018  120.0  230  130.0  170.0"
            ]
          },
          "execution_count": 77,
          "metadata": {},
          "output_type": "execute_result"
        }
      ],
      "source": [
        "df"
      ]
    },
    {
      "cell_type": "code",
      "execution_count": null,
      "id": "5d191c34",
      "metadata": {
        "id": "5d191c34",
        "outputId": "386ee290-e514-4d25-ab92-0373176cb183"
      },
      "outputs": [
        {
          "data": {
            "text/html": [
              "<div>\n",
              "<style scoped>\n",
              "    .dataframe tbody tr th:only-of-type {\n",
              "        vertical-align: middle;\n",
              "    }\n",
              "\n",
              "    .dataframe tbody tr th {\n",
              "        vertical-align: top;\n",
              "    }\n",
              "\n",
              "    .dataframe thead th {\n",
              "        text-align: right;\n",
              "    }\n",
              "</style>\n",
              "<table border=\"1\" class=\"dataframe\">\n",
              "  <thead>\n",
              "    <tr style=\"text-align: right;\">\n",
              "      <th></th>\n",
              "      <th>제품1</th>\n",
              "      <th>제품2</th>\n",
              "      <th>제품3</th>\n",
              "      <th>제품4</th>\n",
              "    </tr>\n",
              "    <tr>\n",
              "      <th>연도</th>\n",
              "      <th></th>\n",
              "      <th></th>\n",
              "      <th></th>\n",
              "      <th></th>\n",
              "    </tr>\n",
              "  </thead>\n",
              "  <tbody>\n",
              "    <tr>\n",
              "      <th>2015</th>\n",
              "      <td>250.0</td>\n",
              "      <td>150</td>\n",
              "      <td>NaN</td>\n",
              "      <td>NaN</td>\n",
              "    </tr>\n",
              "    <tr>\n",
              "      <th>2016</th>\n",
              "      <td>200.0</td>\n",
              "      <td>160</td>\n",
              "      <td>170.0</td>\n",
              "      <td>NaN</td>\n",
              "    </tr>\n",
              "    <tr>\n",
              "      <th>2017</th>\n",
              "      <td>150.0</td>\n",
              "      <td>200</td>\n",
              "      <td>100.0</td>\n",
              "      <td>150.0</td>\n",
              "    </tr>\n",
              "    <tr>\n",
              "      <th>2018</th>\n",
              "      <td>120.0</td>\n",
              "      <td>230</td>\n",
              "      <td>130.0</td>\n",
              "      <td>170.0</td>\n",
              "    </tr>\n",
              "  </tbody>\n",
              "</table>\n",
              "</div>"
            ],
            "text/plain": [
              "        제품1  제품2    제품3    제품4\n",
              "연도                            \n",
              "2015  250.0  150    NaN    NaN\n",
              "2016  200.0  160  170.0    NaN\n",
              "2017  150.0  200  100.0  150.0\n",
              "2018  120.0  230  130.0  170.0"
            ]
          },
          "execution_count": 78,
          "metadata": {},
          "output_type": "execute_result"
        }
      ],
      "source": [
        "df_copy4"
      ]
    },
    {
      "cell_type": "code",
      "execution_count": null,
      "id": "dae4e640",
      "metadata": {
        "id": "dae4e640",
        "outputId": "85759c26-f3c0-4623-e87a-4317fbd38c1b"
      },
      "outputs": [
        {
          "data": {
            "text/html": [
              "<div>\n",
              "<style scoped>\n",
              "    .dataframe tbody tr th:only-of-type {\n",
              "        vertical-align: middle;\n",
              "    }\n",
              "\n",
              "    .dataframe tbody tr th {\n",
              "        vertical-align: top;\n",
              "    }\n",
              "\n",
              "    .dataframe thead th {\n",
              "        text-align: right;\n",
              "    }\n",
              "</style>\n",
              "<table border=\"1\" class=\"dataframe\">\n",
              "  <thead>\n",
              "    <tr style=\"text-align: right;\">\n",
              "      <th></th>\n",
              "      <th>제품1</th>\n",
              "      <th>제품2</th>\n",
              "      <th>제품3</th>\n",
              "      <th>제품4</th>\n",
              "    </tr>\n",
              "    <tr>\n",
              "      <th>연도</th>\n",
              "      <th></th>\n",
              "      <th></th>\n",
              "      <th></th>\n",
              "      <th></th>\n",
              "    </tr>\n",
              "  </thead>\n",
              "  <tbody>\n",
              "    <tr>\n",
              "      <th>2015</th>\n",
              "      <td>250.0</td>\n",
              "      <td>150</td>\n",
              "      <td>NaN</td>\n",
              "      <td>NaN</td>\n",
              "    </tr>\n",
              "    <tr>\n",
              "      <th>2016</th>\n",
              "      <td>200.0</td>\n",
              "      <td>160</td>\n",
              "      <td>170.0</td>\n",
              "      <td>NaN</td>\n",
              "    </tr>\n",
              "    <tr>\n",
              "      <th>2017</th>\n",
              "      <td>150.0</td>\n",
              "      <td>200</td>\n",
              "      <td>100.0</td>\n",
              "      <td>150.0</td>\n",
              "    </tr>\n",
              "    <tr>\n",
              "      <th>2018</th>\n",
              "      <td>120.0</td>\n",
              "      <td>230</td>\n",
              "      <td>130.0</td>\n",
              "      <td>170.0</td>\n",
              "    </tr>\n",
              "  </tbody>\n",
              "</table>\n",
              "</div>"
            ],
            "text/plain": [
              "        제품1  제품2    제품3    제품4\n",
              "연도                            \n",
              "2015  250.0  150    NaN    NaN\n",
              "2016  200.0  160  170.0    NaN\n",
              "2017  150.0  200  100.0  150.0\n",
              "2018  120.0  230  130.0  170.0"
            ]
          },
          "execution_count": 79,
          "metadata": {},
          "output_type": "execute_result"
        }
      ],
      "source": [
        "df_copy4.fillna(method='ffill')"
      ]
    },
    {
      "cell_type": "code",
      "execution_count": null,
      "id": "394cff76",
      "metadata": {
        "id": "394cff76",
        "outputId": "a43b1a55-2aa3-439d-f5be-5dcbfc196a42"
      },
      "outputs": [
        {
          "data": {
            "text/html": [
              "<div>\n",
              "<style scoped>\n",
              "    .dataframe tbody tr th:only-of-type {\n",
              "        vertical-align: middle;\n",
              "    }\n",
              "\n",
              "    .dataframe tbody tr th {\n",
              "        vertical-align: top;\n",
              "    }\n",
              "\n",
              "    .dataframe thead th {\n",
              "        text-align: right;\n",
              "    }\n",
              "</style>\n",
              "<table border=\"1\" class=\"dataframe\">\n",
              "  <thead>\n",
              "    <tr style=\"text-align: right;\">\n",
              "      <th></th>\n",
              "      <th>제품1</th>\n",
              "      <th>제품2</th>\n",
              "      <th>제품3</th>\n",
              "      <th>제품4</th>\n",
              "    </tr>\n",
              "    <tr>\n",
              "      <th>연도</th>\n",
              "      <th></th>\n",
              "      <th></th>\n",
              "      <th></th>\n",
              "      <th></th>\n",
              "    </tr>\n",
              "  </thead>\n",
              "  <tbody>\n",
              "    <tr>\n",
              "      <th>2015</th>\n",
              "      <td>250.0</td>\n",
              "      <td>150</td>\n",
              "      <td>400.0</td>\n",
              "      <td>NaN</td>\n",
              "    </tr>\n",
              "    <tr>\n",
              "      <th>2016</th>\n",
              "      <td>200.0</td>\n",
              "      <td>160</td>\n",
              "      <td>170.0</td>\n",
              "      <td>NaN</td>\n",
              "    </tr>\n",
              "    <tr>\n",
              "      <th>2017</th>\n",
              "      <td>150.0</td>\n",
              "      <td>200</td>\n",
              "      <td>100.0</td>\n",
              "      <td>150.0</td>\n",
              "    </tr>\n",
              "    <tr>\n",
              "      <th>2018</th>\n",
              "      <td>120.0</td>\n",
              "      <td>230</td>\n",
              "      <td>130.0</td>\n",
              "      <td>170.0</td>\n",
              "    </tr>\n",
              "  </tbody>\n",
              "</table>\n",
              "</div>"
            ],
            "text/plain": [
              "        제품1  제품2    제품3    제품4\n",
              "연도                            \n",
              "2015  250.0  150  400.0    NaN\n",
              "2016  200.0  160  170.0    NaN\n",
              "2017  150.0  200  100.0  150.0\n",
              "2018  120.0  230  130.0  170.0"
            ]
          },
          "execution_count": 84,
          "metadata": {},
          "output_type": "execute_result"
        }
      ],
      "source": [
        "values={'제품3':400}\n",
        "df_copy4.fillna(value=values)"
      ]
    },
    {
      "cell_type": "code",
      "execution_count": null,
      "id": "c074987f",
      "metadata": {
        "id": "c074987f",
        "outputId": "4601016e-090b-4d3a-9198-1a15d40b79ee"
      },
      "outputs": [
        {
          "data": {
            "text/html": [
              "<div>\n",
              "<style scoped>\n",
              "    .dataframe tbody tr th:only-of-type {\n",
              "        vertical-align: middle;\n",
              "    }\n",
              "\n",
              "    .dataframe tbody tr th {\n",
              "        vertical-align: top;\n",
              "    }\n",
              "\n",
              "    .dataframe thead th {\n",
              "        text-align: right;\n",
              "    }\n",
              "</style>\n",
              "<table border=\"1\" class=\"dataframe\">\n",
              "  <thead>\n",
              "    <tr style=\"text-align: right;\">\n",
              "      <th></th>\n",
              "      <th>제품1</th>\n",
              "      <th>제품2</th>\n",
              "      <th>제품3</th>\n",
              "      <th>제품4</th>\n",
              "    </tr>\n",
              "    <tr>\n",
              "      <th>연도</th>\n",
              "      <th></th>\n",
              "      <th></th>\n",
              "      <th></th>\n",
              "      <th></th>\n",
              "    </tr>\n",
              "  </thead>\n",
              "  <tbody>\n",
              "    <tr>\n",
              "      <th>2015</th>\n",
              "      <td>250.0</td>\n",
              "      <td>150</td>\n",
              "      <td>170.0</td>\n",
              "      <td>150.0</td>\n",
              "    </tr>\n",
              "    <tr>\n",
              "      <th>2016</th>\n",
              "      <td>200.0</td>\n",
              "      <td>160</td>\n",
              "      <td>170.0</td>\n",
              "      <td>150.0</td>\n",
              "    </tr>\n",
              "    <tr>\n",
              "      <th>2017</th>\n",
              "      <td>150.0</td>\n",
              "      <td>200</td>\n",
              "      <td>100.0</td>\n",
              "      <td>150.0</td>\n",
              "    </tr>\n",
              "    <tr>\n",
              "      <th>2018</th>\n",
              "      <td>120.0</td>\n",
              "      <td>230</td>\n",
              "      <td>130.0</td>\n",
              "      <td>170.0</td>\n",
              "    </tr>\n",
              "  </tbody>\n",
              "</table>\n",
              "</div>"
            ],
            "text/plain": [
              "        제품1  제품2    제품3    제품4\n",
              "연도                            \n",
              "2015  250.0  150  170.0  150.0\n",
              "2016  200.0  160  170.0  150.0\n",
              "2017  150.0  200  100.0  150.0\n",
              "2018  120.0  230  130.0  170.0"
            ]
          },
          "execution_count": 88,
          "metadata": {},
          "output_type": "execute_result"
        }
      ],
      "source": [
        "df_copy4.fillna(method='bfill')"
      ]
    },
    {
      "cell_type": "code",
      "execution_count": null,
      "id": "39c9208a",
      "metadata": {
        "id": "39c9208a"
      },
      "outputs": [],
      "source": [
        "df_copy4=df_copy4.reset_index() #인덱스 설정 리셋"
      ]
    },
    {
      "cell_type": "code",
      "execution_count": null,
      "id": "f8752b64",
      "metadata": {
        "id": "f8752b64",
        "outputId": "0cda53c0-3226-4cf8-cc9a-b3bd1d032fcc"
      },
      "outputs": [
        {
          "data": {
            "text/html": [
              "<div>\n",
              "<style scoped>\n",
              "    .dataframe tbody tr th:only-of-type {\n",
              "        vertical-align: middle;\n",
              "    }\n",
              "\n",
              "    .dataframe tbody tr th {\n",
              "        vertical-align: top;\n",
              "    }\n",
              "\n",
              "    .dataframe thead th {\n",
              "        text-align: right;\n",
              "    }\n",
              "</style>\n",
              "<table border=\"1\" class=\"dataframe\">\n",
              "  <thead>\n",
              "    <tr style=\"text-align: right;\">\n",
              "      <th></th>\n",
              "      <th>연도</th>\n",
              "      <th>제품1</th>\n",
              "      <th>제품2</th>\n",
              "      <th>제품3</th>\n",
              "      <th>제품4</th>\n",
              "    </tr>\n",
              "  </thead>\n",
              "  <tbody>\n",
              "    <tr>\n",
              "      <th>0</th>\n",
              "      <td>2015</td>\n",
              "      <td>250.0</td>\n",
              "      <td>150</td>\n",
              "      <td>NaN</td>\n",
              "      <td>NaN</td>\n",
              "    </tr>\n",
              "    <tr>\n",
              "      <th>1</th>\n",
              "      <td>2016</td>\n",
              "      <td>200.0</td>\n",
              "      <td>160</td>\n",
              "      <td>170.0</td>\n",
              "      <td>NaN</td>\n",
              "    </tr>\n",
              "    <tr>\n",
              "      <th>2</th>\n",
              "      <td>2017</td>\n",
              "      <td>150.0</td>\n",
              "      <td>200</td>\n",
              "      <td>100.0</td>\n",
              "      <td>150.0</td>\n",
              "    </tr>\n",
              "    <tr>\n",
              "      <th>3</th>\n",
              "      <td>2018</td>\n",
              "      <td>120.0</td>\n",
              "      <td>230</td>\n",
              "      <td>130.0</td>\n",
              "      <td>170.0</td>\n",
              "    </tr>\n",
              "  </tbody>\n",
              "</table>\n",
              "</div>"
            ],
            "text/plain": [
              "     연도    제품1  제품2    제품3    제품4\n",
              "0  2015  250.0  150    NaN    NaN\n",
              "1  2016  200.0  160  170.0    NaN\n",
              "2  2017  150.0  200  100.0  150.0\n",
              "3  2018  120.0  230  130.0  170.0"
            ]
          },
          "execution_count": 93,
          "metadata": {},
          "output_type": "execute_result"
        }
      ],
      "source": [
        "df_copy4"
      ]
    },
    {
      "cell_type": "code",
      "execution_count": null,
      "id": "d27f69f8",
      "metadata": {
        "id": "d27f69f8"
      },
      "outputs": [],
      "source": [
        "df3= pd.read_csv(data_file, encoding = \"cp949\")"
      ]
    },
    {
      "cell_type": "code",
      "execution_count": null,
      "id": "23a8ac64",
      "metadata": {
        "id": "23a8ac64",
        "outputId": "4d92b11d-5d1f-4b30-cab9-3063d7352ccf"
      },
      "outputs": [
        {
          "data": {
            "text/html": [
              "<div>\n",
              "<style scoped>\n",
              "    .dataframe tbody tr th:only-of-type {\n",
              "        vertical-align: middle;\n",
              "    }\n",
              "\n",
              "    .dataframe tbody tr th {\n",
              "        vertical-align: top;\n",
              "    }\n",
              "\n",
              "    .dataframe thead th {\n",
              "        text-align: right;\n",
              "    }\n",
              "</style>\n",
              "<table border=\"1\" class=\"dataframe\">\n",
              "  <thead>\n",
              "    <tr style=\"text-align: right;\">\n",
              "      <th></th>\n",
              "      <th>연도</th>\n",
              "      <th>제품1</th>\n",
              "      <th>제품2</th>\n",
              "      <th>제품3</th>\n",
              "      <th>제품4</th>\n",
              "    </tr>\n",
              "  </thead>\n",
              "  <tbody>\n",
              "    <tr>\n",
              "      <th>0</th>\n",
              "      <td>2015</td>\n",
              "      <td>250.0</td>\n",
              "      <td>150</td>\n",
              "      <td>NaN</td>\n",
              "      <td>NaN</td>\n",
              "    </tr>\n",
              "    <tr>\n",
              "      <th>1</th>\n",
              "      <td>2016</td>\n",
              "      <td>200.0</td>\n",
              "      <td>160</td>\n",
              "      <td>170.0</td>\n",
              "      <td>NaN</td>\n",
              "    </tr>\n",
              "    <tr>\n",
              "      <th>2</th>\n",
              "      <td>2017</td>\n",
              "      <td>150.0</td>\n",
              "      <td>200</td>\n",
              "      <td>100.0</td>\n",
              "      <td>150.0</td>\n",
              "    </tr>\n",
              "    <tr>\n",
              "      <th>3</th>\n",
              "      <td>2018</td>\n",
              "      <td>120.0</td>\n",
              "      <td>230</td>\n",
              "      <td>130.0</td>\n",
              "      <td>170.0</td>\n",
              "    </tr>\n",
              "    <tr>\n",
              "      <th>4</th>\n",
              "      <td>2019</td>\n",
              "      <td>NaN</td>\n",
              "      <td>250</td>\n",
              "      <td>140.0</td>\n",
              "      <td>NaN</td>\n",
              "    </tr>\n",
              "  </tbody>\n",
              "</table>\n",
              "</div>"
            ],
            "text/plain": [
              "     연도    제품1  제품2    제품3    제품4\n",
              "0  2015  250.0  150    NaN    NaN\n",
              "1  2016  200.0  160  170.0    NaN\n",
              "2  2017  150.0  200  100.0  150.0\n",
              "3  2018  120.0  230  130.0  170.0\n",
              "4  2019    NaN  250  140.0    NaN"
            ]
          },
          "execution_count": 87,
          "metadata": {},
          "output_type": "execute_result"
        }
      ],
      "source": [
        "df3"
      ]
    },
    {
      "cell_type": "markdown",
      "id": "1145fc59",
      "metadata": {
        "id": "1145fc59"
      },
      "source": [
        "## 데이터의 요약 및 재구성"
      ]
    },
    {
      "cell_type": "markdown",
      "id": "16034a8e",
      "metadata": {
        "id": "16034a8e"
      },
      "source": [
        "### 데이터의 구조 살펴보기"
      ]
    },
    {
      "cell_type": "code",
      "execution_count": null,
      "id": "da0081f4",
      "metadata": {
        "id": "da0081f4"
      },
      "outputs": [],
      "source": [
        "data_file2 = \"C:/ex/py/myPyCode/data/total_sales_data.csv\""
      ]
    },
    {
      "cell_type": "code",
      "execution_count": null,
      "id": "ef1ff9e6",
      "metadata": {
        "id": "ef1ff9e6",
        "outputId": "dd424e4e-63e7-408c-e9a0-b851c9a801c2"
      },
      "outputs": [
        {
          "data": {
            "text/html": [
              "<div>\n",
              "<style scoped>\n",
              "    .dataframe tbody tr th:only-of-type {\n",
              "        vertical-align: middle;\n",
              "    }\n",
              "\n",
              "    .dataframe tbody tr th {\n",
              "        vertical-align: top;\n",
              "    }\n",
              "\n",
              "    .dataframe thead th {\n",
              "        text-align: right;\n",
              "    }\n",
              "</style>\n",
              "<table border=\"1\" class=\"dataframe\">\n",
              "  <thead>\n",
              "    <tr style=\"text-align: right;\">\n",
              "      <th></th>\n",
              "      <th>매장명</th>\n",
              "      <th>제품종류</th>\n",
              "      <th>모델명</th>\n",
              "      <th>판매</th>\n",
              "      <th>재고</th>\n",
              "    </tr>\n",
              "  </thead>\n",
              "  <tbody>\n",
              "    <tr>\n",
              "      <th>0</th>\n",
              "      <td>A</td>\n",
              "      <td>스마트폰</td>\n",
              "      <td>S1</td>\n",
              "      <td>1</td>\n",
              "      <td>2</td>\n",
              "    </tr>\n",
              "    <tr>\n",
              "      <th>1</th>\n",
              "      <td>A</td>\n",
              "      <td>스마트폰</td>\n",
              "      <td>S2</td>\n",
              "      <td>2</td>\n",
              "      <td>5</td>\n",
              "    </tr>\n",
              "    <tr>\n",
              "      <th>2</th>\n",
              "      <td>A</td>\n",
              "      <td>TV</td>\n",
              "      <td>V1</td>\n",
              "      <td>3</td>\n",
              "      <td>5</td>\n",
              "    </tr>\n",
              "    <tr>\n",
              "      <th>3</th>\n",
              "      <td>B</td>\n",
              "      <td>스마트폰</td>\n",
              "      <td>S2</td>\n",
              "      <td>4</td>\n",
              "      <td>6</td>\n",
              "    </tr>\n",
              "    <tr>\n",
              "      <th>4</th>\n",
              "      <td>B</td>\n",
              "      <td>스마트폰</td>\n",
              "      <td>S1</td>\n",
              "      <td>5</td>\n",
              "      <td>8</td>\n",
              "    </tr>\n",
              "    <tr>\n",
              "      <th>5</th>\n",
              "      <td>B</td>\n",
              "      <td>TV</td>\n",
              "      <td>V1</td>\n",
              "      <td>6</td>\n",
              "      <td>9</td>\n",
              "    </tr>\n",
              "    <tr>\n",
              "      <th>6</th>\n",
              "      <td>C</td>\n",
              "      <td>스마트폰</td>\n",
              "      <td>S2</td>\n",
              "      <td>2</td>\n",
              "      <td>4</td>\n",
              "    </tr>\n",
              "    <tr>\n",
              "      <th>7</th>\n",
              "      <td>C</td>\n",
              "      <td>TV</td>\n",
              "      <td>V1</td>\n",
              "      <td>3</td>\n",
              "      <td>6</td>\n",
              "    </tr>\n",
              "    <tr>\n",
              "      <th>8</th>\n",
              "      <td>C</td>\n",
              "      <td>TV</td>\n",
              "      <td>V2</td>\n",
              "      <td>7</td>\n",
              "      <td>9</td>\n",
              "    </tr>\n",
              "  </tbody>\n",
              "</table>\n",
              "</div>"
            ],
            "text/plain": [
              "  매장명  제품종류 모델명  판매  재고\n",
              "0   A  스마트폰  S1   1   2\n",
              "1   A  스마트폰  S2   2   5\n",
              "2   A    TV  V1   3   5\n",
              "3   B  스마트폰  S2   4   6\n",
              "4   B  스마트폰  S1   5   8\n",
              "5   B    TV  V1   6   9\n",
              "6   C  스마트폰  S2   2   4\n",
              "7   C    TV  V1   3   6\n",
              "8   C    TV  V2   7   9"
            ]
          },
          "execution_count": 96,
          "metadata": {},
          "output_type": "execute_result"
        }
      ],
      "source": [
        "df_sales = pd.read_csv(data_file2)\n",
        "df_sales"
      ]
    },
    {
      "cell_type": "code",
      "execution_count": null,
      "id": "43668e4b",
      "metadata": {
        "id": "43668e4b",
        "outputId": "dd92a59b-076d-499c-f04e-ff48530fddff"
      },
      "outputs": [
        {
          "data": {
            "text/html": [
              "<div>\n",
              "<style scoped>\n",
              "    .dataframe tbody tr th:only-of-type {\n",
              "        vertical-align: middle;\n",
              "    }\n",
              "\n",
              "    .dataframe tbody tr th {\n",
              "        vertical-align: top;\n",
              "    }\n",
              "\n",
              "    .dataframe thead th {\n",
              "        text-align: right;\n",
              "    }\n",
              "</style>\n",
              "<table border=\"1\" class=\"dataframe\">\n",
              "  <thead>\n",
              "    <tr style=\"text-align: right;\">\n",
              "      <th></th>\n",
              "      <th>판매</th>\n",
              "      <th>재고</th>\n",
              "    </tr>\n",
              "  </thead>\n",
              "  <tbody>\n",
              "    <tr>\n",
              "      <th>count</th>\n",
              "      <td>9.000000</td>\n",
              "      <td>9.000000</td>\n",
              "    </tr>\n",
              "    <tr>\n",
              "      <th>mean</th>\n",
              "      <td>3.666667</td>\n",
              "      <td>6.000000</td>\n",
              "    </tr>\n",
              "    <tr>\n",
              "      <th>std</th>\n",
              "      <td>2.000000</td>\n",
              "      <td>2.345208</td>\n",
              "    </tr>\n",
              "    <tr>\n",
              "      <th>min</th>\n",
              "      <td>1.000000</td>\n",
              "      <td>2.000000</td>\n",
              "    </tr>\n",
              "    <tr>\n",
              "      <th>25%</th>\n",
              "      <td>2.000000</td>\n",
              "      <td>5.000000</td>\n",
              "    </tr>\n",
              "    <tr>\n",
              "      <th>50%</th>\n",
              "      <td>3.000000</td>\n",
              "      <td>6.000000</td>\n",
              "    </tr>\n",
              "    <tr>\n",
              "      <th>75%</th>\n",
              "      <td>5.000000</td>\n",
              "      <td>8.000000</td>\n",
              "    </tr>\n",
              "    <tr>\n",
              "      <th>max</th>\n",
              "      <td>7.000000</td>\n",
              "      <td>9.000000</td>\n",
              "    </tr>\n",
              "  </tbody>\n",
              "</table>\n",
              "</div>"
            ],
            "text/plain": [
              "             판매        재고\n",
              "count  9.000000  9.000000\n",
              "mean   3.666667  6.000000\n",
              "std    2.000000  2.345208\n",
              "min    1.000000  2.000000\n",
              "25%    2.000000  5.000000\n",
              "50%    3.000000  6.000000\n",
              "75%    5.000000  8.000000\n",
              "max    7.000000  9.000000"
            ]
          },
          "execution_count": 97,
          "metadata": {},
          "output_type": "execute_result"
        }
      ],
      "source": [
        "df_sales.describe()"
      ]
    },
    {
      "cell_type": "code",
      "execution_count": null,
      "id": "095bf564",
      "metadata": {
        "id": "095bf564",
        "outputId": "17abf923-d3df-4bea-9764-3d1069fd79b7"
      },
      "outputs": [
        {
          "name": "stdout",
          "output_type": "stream",
          "text": [
            "<class 'pandas.core.frame.DataFrame'>\n",
            "RangeIndex: 9 entries, 0 to 8\n",
            "Data columns (total 5 columns):\n",
            " #   Column  Non-Null Count  Dtype \n",
            "---  ------  --------------  ----- \n",
            " 0   매장명     9 non-null      object\n",
            " 1   제품종류    9 non-null      object\n",
            " 2   모델명     9 non-null      object\n",
            " 3   판매      9 non-null      int64 \n",
            " 4   재고      9 non-null      int64 \n",
            "dtypes: int64(2), object(3)\n",
            "memory usage: 492.0+ bytes\n"
          ]
        }
      ],
      "source": [
        "df_sales.info()"
      ]
    },
    {
      "cell_type": "code",
      "execution_count": null,
      "id": "d29590c3",
      "metadata": {
        "id": "d29590c3",
        "outputId": "3aaa04da-0c0d-4403-8c9f-d26e768e03bf"
      },
      "outputs": [
        {
          "data": {
            "text/html": [
              "<div>\n",
              "<style scoped>\n",
              "    .dataframe tbody tr th:only-of-type {\n",
              "        vertical-align: middle;\n",
              "    }\n",
              "\n",
              "    .dataframe tbody tr th {\n",
              "        vertical-align: top;\n",
              "    }\n",
              "\n",
              "    .dataframe thead th {\n",
              "        text-align: right;\n",
              "    }\n",
              "</style>\n",
              "<table border=\"1\" class=\"dataframe\">\n",
              "  <thead>\n",
              "    <tr style=\"text-align: right;\">\n",
              "      <th></th>\n",
              "      <th></th>\n",
              "      <th></th>\n",
              "      <th>재고</th>\n",
              "      <th>판매</th>\n",
              "    </tr>\n",
              "    <tr>\n",
              "      <th>매장명</th>\n",
              "      <th>제품종류</th>\n",
              "      <th>모델명</th>\n",
              "      <th></th>\n",
              "      <th></th>\n",
              "    </tr>\n",
              "  </thead>\n",
              "  <tbody>\n",
              "    <tr>\n",
              "      <th rowspan=\"3\" valign=\"top\">A</th>\n",
              "      <th>TV</th>\n",
              "      <th>V1</th>\n",
              "      <td>5</td>\n",
              "      <td>3</td>\n",
              "    </tr>\n",
              "    <tr>\n",
              "      <th rowspan=\"2\" valign=\"top\">스마트폰</th>\n",
              "      <th>S1</th>\n",
              "      <td>2</td>\n",
              "      <td>1</td>\n",
              "    </tr>\n",
              "    <tr>\n",
              "      <th>S2</th>\n",
              "      <td>5</td>\n",
              "      <td>2</td>\n",
              "    </tr>\n",
              "    <tr>\n",
              "      <th rowspan=\"3\" valign=\"top\">B</th>\n",
              "      <th>TV</th>\n",
              "      <th>V1</th>\n",
              "      <td>9</td>\n",
              "      <td>6</td>\n",
              "    </tr>\n",
              "    <tr>\n",
              "      <th rowspan=\"2\" valign=\"top\">스마트폰</th>\n",
              "      <th>S1</th>\n",
              "      <td>8</td>\n",
              "      <td>5</td>\n",
              "    </tr>\n",
              "    <tr>\n",
              "      <th>S2</th>\n",
              "      <td>6</td>\n",
              "      <td>4</td>\n",
              "    </tr>\n",
              "    <tr>\n",
              "      <th rowspan=\"3\" valign=\"top\">C</th>\n",
              "      <th rowspan=\"2\" valign=\"top\">TV</th>\n",
              "      <th>V1</th>\n",
              "      <td>6</td>\n",
              "      <td>3</td>\n",
              "    </tr>\n",
              "    <tr>\n",
              "      <th>V2</th>\n",
              "      <td>9</td>\n",
              "      <td>7</td>\n",
              "    </tr>\n",
              "    <tr>\n",
              "      <th>스마트폰</th>\n",
              "      <th>S2</th>\n",
              "      <td>4</td>\n",
              "      <td>2</td>\n",
              "    </tr>\n",
              "  </tbody>\n",
              "</table>\n",
              "</div>"
            ],
            "text/plain": [
              "              재고  판매\n",
              "매장명 제품종류 모델명        \n",
              "A   TV   V1    5   3\n",
              "    스마트폰 S1    2   1\n",
              "         S2    5   2\n",
              "B   TV   V1    9   6\n",
              "    스마트폰 S1    8   5\n",
              "         S2    6   4\n",
              "C   TV   V1    6   3\n",
              "         V2    9   7\n",
              "    스마트폰 S2    4   2"
            ]
          },
          "execution_count": 99,
          "metadata": {},
          "output_type": "execute_result"
        }
      ],
      "source": [
        "df_sales.pivot_table(index=[\"매장명\", \"제품종류\", \"모델명\"],\n",
        "                     values =[\"판매\",\"재고\"], aggfunc='sum')"
      ]
    },
    {
      "cell_type": "code",
      "execution_count": null,
      "id": "d7681992",
      "metadata": {
        "id": "d7681992"
      },
      "outputs": [],
      "source": []
    }
  ],
  "metadata": {
    "kernelspec": {
      "display_name": "Python 3 (ipykernel)",
      "language": "python",
      "name": "python3"
    },
    "language_info": {
      "codemirror_mode": {
        "name": "ipython",
        "version": 3
      },
      "file_extension": ".py",
      "mimetype": "text/x-python",
      "name": "python",
      "nbconvert_exporter": "python",
      "pygments_lexer": "ipython3",
      "version": "3.11.5"
    },
    "colab": {
      "provenance": [],
      "include_colab_link": true
    }
  },
  "nbformat": 4,
  "nbformat_minor": 5
}