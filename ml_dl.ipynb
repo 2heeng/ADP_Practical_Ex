{
  "cells": [
    {
      "cell_type": "markdown",
      "metadata": {
        "id": "view-in-github",
        "colab_type": "text"
      },
      "source": [
        "<a href=\"https://colab.research.google.com/github/2heeng/ADP_Practical_Ex/blob/main/ml_dl.ipynb\" target=\"_parent\"><img src=\"https://colab.research.google.com/assets/colab-badge.svg\" alt=\"Open In Colab\"/></a>"
      ]
    },
    {
      "cell_type": "markdown",
      "id": "b9f43edf",
      "metadata": {
        "id": "b9f43edf"
      },
      "source": [
        "# 지도(supervised) 학습(회귀,분류)"
      ]
    },
    {
      "cell_type": "code",
      "execution_count": null,
      "id": "4835641b",
      "metadata": {
        "id": "4835641b"
      },
      "outputs": [],
      "source": [
        "#https://scikit-learn.org/stable/"
      ]
    },
    {
      "cell_type": "markdown",
      "id": "c8d7687a",
      "metadata": {
        "id": "c8d7687a"
      },
      "source": [
        "## 생선 분류 문제"
      ]
    },
    {
      "cell_type": "markdown",
      "id": "92e24803",
      "metadata": {
        "id": "92e24803"
      },
      "source": [
        "#### 도미 데이터 준비하기"
      ]
    },
    {
      "cell_type": "code",
      "execution_count": null,
      "id": "0f69f069",
      "metadata": {
        "id": "0f69f069"
      },
      "outputs": [],
      "source": [
        "bream_length = [25.4, 26.3, 26.5, 29.0, 29.0, 29.7, 29.7, 30.0, 30.0, 30.7, 31.0, 31.0, 31.5, 32.0, 32.0, 32.0, 33.0, 33.0, 33.5, 33.5, 34.0, 34.0, 34.5, 35.0, 35.0, 35.0, 35.0, 36.0, 36.0, 37.0, 38.5, 38.5, 39.5, 41.0, 41.0]\n",
        "bream_weight = [242.0, 290.0, 340.0, 363.0, 430.0, 450.0, 500.0, 390.0, 450.0, 500.0, 475.0, 500.0, 500.0, 340.0, 600.0, 600.0, 700.0, 700.0, 610.0, 650.0, 575.0, 685.0, 620.0, 680.0, 700.0, 725.0, 720.0, 714.0, 850.0, 1000.0, 920.0, 955.0, 925.0, 975.0, 950.0]"
      ]
    },
    {
      "cell_type": "code",
      "execution_count": null,
      "id": "36307077",
      "metadata": {
        "id": "36307077",
        "outputId": "50427ee4-31d2-48fe-94c8-5bb059b578fb"
      },
      "outputs": [
        {
          "data": {
            "text/plain": [
              "35"
            ]
          },
          "execution_count": 3,
          "metadata": {},
          "output_type": "execute_result"
        }
      ],
      "source": [
        "len(bream_length)"
      ]
    },
    {
      "cell_type": "code",
      "execution_count": null,
      "id": "7b3a33d3",
      "metadata": {
        "id": "7b3a33d3",
        "outputId": "c3bd79d7-eccd-4ef8-c4ff-0b8b1bcae346"
      },
      "outputs": [
        {
          "data": {
            "text/plain": [
              "35"
            ]
          },
          "execution_count": 4,
          "metadata": {},
          "output_type": "execute_result"
        }
      ],
      "source": [
        "len(bream_weight)"
      ]
    },
    {
      "cell_type": "code",
      "execution_count": null,
      "id": "96100f78",
      "metadata": {
        "id": "96100f78"
      },
      "outputs": [],
      "source": [
        "import matplotlib.pyplot as plt"
      ]
    },
    {
      "cell_type": "code",
      "execution_count": null,
      "id": "93fa7d04",
      "metadata": {
        "id": "93fa7d04"
      },
      "outputs": [],
      "source": [
        "#상관을 알기 위해서는 공분산을 알아야 함"
      ]
    },
    {
      "cell_type": "code",
      "execution_count": null,
      "id": "a31dde5e",
      "metadata": {
        "id": "a31dde5e"
      },
      "outputs": [],
      "source": [
        "#공분산의 개념을 알아야함"
      ]
    },
    {
      "cell_type": "markdown",
      "id": "6744ac25",
      "metadata": {
        "id": "6744ac25"
      },
      "source": [
        "![image.png](attachment:image.png)"
      ]
    },
    {
      "cell_type": "code",
      "execution_count": null,
      "id": "16181b69",
      "metadata": {
        "id": "16181b69"
      },
      "outputs": [],
      "source": [
        "import numpy as np"
      ]
    },
    {
      "cell_type": "code",
      "execution_count": null,
      "id": "97f9414d",
      "metadata": {
        "id": "97f9414d"
      },
      "outputs": [],
      "source": [
        "bream_length_mean=np.mean(bream_length)\n",
        "bream_weight_mean=np.mean(bream_weight)"
      ]
    },
    {
      "cell_type": "code",
      "execution_count": null,
      "id": "df85d11c",
      "metadata": {
        "id": "df85d11c",
        "outputId": "9c926642-3e52-4283-9fc4-1154fe890494"
      },
      "outputs": [
        {
          "name": "stdout",
          "output_type": "stream",
          "text": [
            "33.10857142857143 617.8285714285714\n"
          ]
        }
      ],
      "source": [
        "print(bream_length_mean,bream_weight_mean)"
      ]
    },
    {
      "cell_type": "code",
      "execution_count": null,
      "id": "20add663",
      "metadata": {
        "id": "20add663",
        "outputId": "447f1365-127b-43ae-f7e8-f81e5fd10131"
      },
      "outputs": [
        {
          "name": "stdout",
          "output_type": "stream",
          "text": [
            "도미의 평균길이: 33.11cm, 도미의 평균무게:617.83g\n"
          ]
        }
      ],
      "source": [
        "print('도미의 평균길이: %.2fcm, 도미의 평균무게:%.2fg'\n",
        "      %(bream_length_mean,bream_weight_mean))"
      ]
    },
    {
      "cell_type": "code",
      "execution_count": null,
      "id": "8662b08b",
      "metadata": {
        "id": "8662b08b"
      },
      "outputs": [],
      "source": [
        "#편차(평균과의 차)"
      ]
    },
    {
      "cell_type": "code",
      "execution_count": null,
      "id": "c1198626",
      "metadata": {
        "id": "c1198626",
        "outputId": "3b3c0e06-eca2-42dc-a46e-74bcf4c4b5d8"
      },
      "outputs": [
        {
          "data": {
            "text/plain": [
              "752.2871836734696"
            ]
          },
          "execution_count": 15,
          "metadata": {},
          "output_type": "execute_result"
        }
      ],
      "source": [
        "np.sum((bream_length-bream_length_mean)*(bream_weight-bream_weight_mean))/len(bream_length)"
      ]
    },
    {
      "cell_type": "code",
      "execution_count": null,
      "id": "8ea2f8cd",
      "metadata": {
        "id": "8ea2f8cd",
        "outputId": "735bb4c1-b86f-4044-9bd0-50c0bc8a08ad"
      },
      "outputs": [
        {
          "data": {
            "text/plain": [
              "774.4132773109245"
            ]
          },
          "execution_count": 19,
          "metadata": {},
          "output_type": "execute_result"
        }
      ],
      "source": [
        "np.sum((bream_length-bream_length_mean)*(bream_weight-bream_weight_mean))/(len(bream_length)-1)"
      ]
    },
    {
      "cell_type": "code",
      "execution_count": null,
      "id": "a50ee684",
      "metadata": {
        "id": "a50ee684"
      },
      "outputs": [],
      "source": [
        "#help(np.cov)"
      ]
    },
    {
      "cell_type": "code",
      "execution_count": null,
      "id": "aadf3203",
      "metadata": {
        "id": "aadf3203",
        "outputId": "8e05d015-bf47-4e5d-83ac-eb06d7111967"
      },
      "outputs": [
        {
          "data": {
            "text/plain": [
              "array([[1.53031597e+01, 7.74413277e+02],\n",
              "       [7.74413277e+02, 4.37670286e+04]])"
            ]
          },
          "execution_count": 17,
          "metadata": {},
          "output_type": "execute_result"
        }
      ],
      "source": [
        "np.cov(bream_length,bream_weight)"
      ]
    },
    {
      "cell_type": "code",
      "execution_count": null,
      "id": "61ec3670",
      "metadata": {
        "id": "61ec3670",
        "outputId": "f1997247-3ab5-4ba5-947b-2384f04bd00b"
      },
      "outputs": [
        {
          "data": {
            "text/plain": [
              "774.413277"
            ]
          },
          "execution_count": 20,
          "metadata": {},
          "output_type": "execute_result"
        }
      ],
      "source": [
        "7.74413277*100"
      ]
    },
    {
      "cell_type": "markdown",
      "id": "38e7e033",
      "metadata": {
        "id": "38e7e033"
      },
      "source": [
        "![image.png](attachment:image.png)"
      ]
    },
    {
      "cell_type": "code",
      "execution_count": null,
      "id": "30157f62",
      "metadata": {
        "id": "30157f62"
      },
      "outputs": [],
      "source": [
        "#상관계수"
      ]
    },
    {
      "cell_type": "code",
      "execution_count": null,
      "id": "45707b3d",
      "metadata": {
        "id": "45707b3d",
        "outputId": "1fc7007c-448f-4198-981a-c6a94e3e88fd"
      },
      "outputs": [
        {
          "data": {
            "text/plain": [
              "0.946256126166132"
            ]
          },
          "execution_count": 27,
          "metadata": {},
          "output_type": "execute_result"
        }
      ],
      "source": [
        "774.413277 / np.sqrt( (np.sum((bream_length-bream_length_mean)**2) / 34) * (np.sum((bream_weight-bream_weight_mean)**2) / 34))"
      ]
    },
    {
      "cell_type": "code",
      "execution_count": null,
      "id": "2a08765f",
      "metadata": {
        "id": "2a08765f"
      },
      "outputs": [],
      "source": [
        "#help(np.corrcoef) 상관계수 구하기"
      ]
    },
    {
      "cell_type": "code",
      "execution_count": null,
      "id": "4f2d01af",
      "metadata": {
        "id": "4f2d01af",
        "outputId": "956d7e02-6529-4d08-e195-8cfdaf4a5620"
      },
      "outputs": [
        {
          "data": {
            "text/plain": [
              "array([[1.        , 0.94625613],\n",
              "       [0.94625613, 1.        ]])"
            ]
          },
          "execution_count": 28,
          "metadata": {},
          "output_type": "execute_result"
        }
      ],
      "source": [
        "np.corrcoef(bream_length,bream_weight)"
      ]
    },
    {
      "cell_type": "code",
      "execution_count": null,
      "id": "8ceec7db",
      "metadata": {
        "id": "8ceec7db",
        "outputId": "19aedb8b-897c-4b5b-e950-c723944145d3"
      },
      "outputs": [
        {
          "name": "stdout",
          "output_type": "stream",
          "text": [
            "Requirement already satisfied: nbconvert[webpdf] in c:\\programdata\\anaconda3\\lib\\site-packages (6.5.4)Note: you may need to restart the kernel to use updated packages.\n",
            "\n",
            "Requirement already satisfied: lxml in c:\\programdata\\anaconda3\\lib\\site-packages (from nbconvert[webpdf]) (4.9.3)\n",
            "Requirement already satisfied: beautifulsoup4 in c:\\programdata\\anaconda3\\lib\\site-packages (from nbconvert[webpdf]) (4.12.2)\n",
            "Requirement already satisfied: bleach in c:\\programdata\\anaconda3\\lib\\site-packages (from nbconvert[webpdf]) (4.1.0)\n",
            "Requirement already satisfied: defusedxml in c:\\programdata\\anaconda3\\lib\\site-packages (from nbconvert[webpdf]) (0.7.1)\n",
            "Requirement already satisfied: entrypoints>=0.2.2 in c:\\programdata\\anaconda3\\lib\\site-packages (from nbconvert[webpdf]) (0.4)\n",
            "Requirement already satisfied: jinja2>=3.0 in c:\\programdata\\anaconda3\\lib\\site-packages (from nbconvert[webpdf]) (3.1.2)\n",
            "Requirement already satisfied: jupyter-core>=4.7 in c:\\programdata\\anaconda3\\lib\\site-packages (from nbconvert[webpdf]) (5.3.0)\n",
            "Requirement already satisfied: jupyterlab-pygments in c:\\programdata\\anaconda3\\lib\\site-packages (from nbconvert[webpdf]) (0.1.2)\n",
            "Requirement already satisfied: MarkupSafe>=2.0 in c:\\programdata\\anaconda3\\lib\\site-packages (from nbconvert[webpdf]) (2.1.1)\n",
            "Requirement already satisfied: mistune<2,>=0.8.1 in c:\\programdata\\anaconda3\\lib\\site-packages (from nbconvert[webpdf]) (0.8.4)\n",
            "Requirement already satisfied: nbclient>=0.5.0 in c:\\programdata\\anaconda3\\lib\\site-packages (from nbconvert[webpdf]) (0.5.13)\n",
            "Requirement already satisfied: nbformat>=5.1 in c:\\programdata\\anaconda3\\lib\\site-packages (from nbconvert[webpdf]) (5.9.2)\n",
            "Requirement already satisfied: packaging in c:\\programdata\\anaconda3\\lib\\site-packages (from nbconvert[webpdf]) (23.1)\n",
            "Requirement already satisfied: pandocfilters>=1.4.1 in c:\\programdata\\anaconda3\\lib\\site-packages (from nbconvert[webpdf]) (1.5.0)\n",
            "Requirement already satisfied: pygments>=2.4.1 in c:\\programdata\\anaconda3\\lib\\site-packages (from nbconvert[webpdf]) (2.15.1)\n",
            "Requirement already satisfied: tinycss2 in c:\\programdata\\anaconda3\\lib\\site-packages (from nbconvert[webpdf]) (1.2.1)\n",
            "Requirement already satisfied: traitlets>=5.0 in c:\\programdata\\anaconda3\\lib\\site-packages (from nbconvert[webpdf]) (5.7.1)\n",
            "Collecting pyppeteer<1.1,>=1 (from nbconvert[webpdf])\n",
            "  Obtaining dependency information for pyppeteer<1.1,>=1 from https://files.pythonhosted.org/packages/10/46/33c0a9e7d37bf33487074de4399963462093043ad224d1881e41cbd937f3/pyppeteer-1.0.2-py3-none-any.whl.metadata\n",
            "  Downloading pyppeteer-1.0.2-py3-none-any.whl.metadata (6.9 kB)\n",
            "Requirement already satisfied: platformdirs>=2.5 in c:\\programdata\\anaconda3\\lib\\site-packages (from jupyter-core>=4.7->nbconvert[webpdf]) (3.10.0)\n",
            "Requirement already satisfied: pywin32>=300 in c:\\programdata\\anaconda3\\lib\\site-packages (from jupyter-core>=4.7->nbconvert[webpdf]) (305.1)\n",
            "Requirement already satisfied: jupyter-client>=6.1.5 in c:\\programdata\\anaconda3\\lib\\site-packages (from nbclient>=0.5.0->nbconvert[webpdf]) (7.4.9)\n",
            "Requirement already satisfied: nest-asyncio in c:\\programdata\\anaconda3\\lib\\site-packages (from nbclient>=0.5.0->nbconvert[webpdf]) (1.5.6)\n",
            "Requirement already satisfied: fastjsonschema in c:\\programdata\\anaconda3\\lib\\site-packages (from nbformat>=5.1->nbconvert[webpdf]) (2.16.2)\n",
            "Requirement already satisfied: jsonschema>=2.6 in c:\\programdata\\anaconda3\\lib\\site-packages (from nbformat>=5.1->nbconvert[webpdf]) (4.17.3)\n",
            "Requirement already satisfied: appdirs<2.0.0,>=1.4.3 in c:\\programdata\\anaconda3\\lib\\site-packages (from pyppeteer<1.1,>=1->nbconvert[webpdf]) (1.4.4)\n",
            "Requirement already satisfied: certifi>=2021 in c:\\programdata\\anaconda3\\lib\\site-packages (from pyppeteer<1.1,>=1->nbconvert[webpdf]) (2023.7.22)\n",
            "Requirement already satisfied: importlib-metadata>=1.4 in c:\\programdata\\anaconda3\\lib\\site-packages (from pyppeteer<1.1,>=1->nbconvert[webpdf]) (6.0.0)\n",
            "Collecting pyee<9.0.0,>=8.1.0 (from pyppeteer<1.1,>=1->nbconvert[webpdf])\n",
            "  Obtaining dependency information for pyee<9.0.0,>=8.1.0 from https://files.pythonhosted.org/packages/56/37/29d137df23ed1d88d8dcee8a6b8e789d1162042f194b5ccd0a48f503429b/pyee-8.2.2-py2.py3-none-any.whl.metadata\n",
            "  Downloading pyee-8.2.2-py2.py3-none-any.whl.metadata (1.7 kB)\n",
            "Requirement already satisfied: tqdm<5.0.0,>=4.42.1 in c:\\programdata\\anaconda3\\lib\\site-packages (from pyppeteer<1.1,>=1->nbconvert[webpdf]) (4.65.0)\n",
            "Requirement already satisfied: urllib3<2.0.0,>=1.25.8 in c:\\programdata\\anaconda3\\lib\\site-packages (from pyppeteer<1.1,>=1->nbconvert[webpdf]) (1.26.16)\n",
            "Collecting websockets<11.0,>=10.0 (from pyppeteer<1.1,>=1->nbconvert[webpdf])\n",
            "  Obtaining dependency information for websockets<11.0,>=10.0 from https://files.pythonhosted.org/packages/27/bb/6327e8c7d4dd7d5b450b409a461be278968ce05c54da13da581ac87661db/websockets-10.4-cp311-cp311-win_amd64.whl.metadata\n",
            "  Downloading websockets-10.4-cp311-cp311-win_amd64.whl.metadata (6.4 kB)\n",
            "Requirement already satisfied: soupsieve>1.2 in c:\\programdata\\anaconda3\\lib\\site-packages (from beautifulsoup4->nbconvert[webpdf]) (2.4)\n",
            "Requirement already satisfied: six>=1.9.0 in c:\\programdata\\anaconda3\\lib\\site-packages (from bleach->nbconvert[webpdf]) (1.16.0)\n",
            "Requirement already satisfied: webencodings in c:\\programdata\\anaconda3\\lib\\site-packages (from bleach->nbconvert[webpdf]) (0.5.1)\n",
            "Requirement already satisfied: zipp>=0.5 in c:\\programdata\\anaconda3\\lib\\site-packages (from importlib-metadata>=1.4->pyppeteer<1.1,>=1->nbconvert[webpdf]) (3.11.0)\n",
            "Requirement already satisfied: attrs>=17.4.0 in c:\\programdata\\anaconda3\\lib\\site-packages (from jsonschema>=2.6->nbformat>=5.1->nbconvert[webpdf]) (23.2.0)\n",
            "Requirement already satisfied: pyrsistent!=0.17.0,!=0.17.1,!=0.17.2,>=0.14.0 in c:\\programdata\\anaconda3\\lib\\site-packages (from jsonschema>=2.6->nbformat>=5.1->nbconvert[webpdf]) (0.18.0)\n",
            "Requirement already satisfied: python-dateutil>=2.8.2 in c:\\programdata\\anaconda3\\lib\\site-packages (from jupyter-client>=6.1.5->nbclient>=0.5.0->nbconvert[webpdf]) (2.8.2)\n",
            "Requirement already satisfied: pyzmq>=23.0 in c:\\programdata\\anaconda3\\lib\\site-packages (from jupyter-client>=6.1.5->nbclient>=0.5.0->nbconvert[webpdf]) (23.2.0)\n",
            "Requirement already satisfied: tornado>=6.2 in c:\\programdata\\anaconda3\\lib\\site-packages (from jupyter-client>=6.1.5->nbclient>=0.5.0->nbconvert[webpdf]) (6.3.2)\n",
            "Requirement already satisfied: colorama in c:\\programdata\\anaconda3\\lib\\site-packages (from tqdm<5.0.0,>=4.42.1->pyppeteer<1.1,>=1->nbconvert[webpdf]) (0.4.6)\n",
            "Downloading pyppeteer-1.0.2-py3-none-any.whl (83 kB)\n",
            "   ---------------------------------------- 0.0/83.4 kB ? eta -:--:--\n",
            "   ------------------- -------------------- 41.0/83.4 kB 1.9 MB/s eta 0:00:01\n",
            "   ---------------------------------------- 83.4/83.4 kB 2.4 MB/s eta 0:00:00\n",
            "Downloading pyee-8.2.2-py2.py3-none-any.whl (12 kB)\n",
            "Downloading websockets-10.4-cp311-cp311-win_amd64.whl (101 kB)\n",
            "   ---------------------------------------- 0.0/101.4 kB ? eta -:--:--\n",
            "   ---------------------------------------- 101.4/101.4 kB 5.7 MB/s eta 0:00:00\n",
            "Installing collected packages: pyee, websockets, pyppeteer\n",
            "Successfully installed pyee-8.2.2 pyppeteer-1.0.2 websockets-10.4\n"
          ]
        },
        {
          "name": "stderr",
          "output_type": "stream",
          "text": [
            "DEPRECATION: Loading egg at c:\\programdata\\anaconda3\\lib\\site-packages\\vboxapi-1.0-py3.11.egg is deprecated. pip 23.3 will enforce this behaviour change. A possible replacement is to use pip for package installation..\n"
          ]
        }
      ],
      "source": [
        "pip install nbconvert[webpdf]"
      ]
    },
    {
      "cell_type": "code",
      "execution_count": null,
      "id": "0cf95f71",
      "metadata": {
        "id": "0cf95f71"
      },
      "outputs": [],
      "source": []
    }
  ],
  "metadata": {
    "kernelspec": {
      "display_name": "Python 3 (ipykernel)",
      "language": "python",
      "name": "python3"
    },
    "language_info": {
      "codemirror_mode": {
        "name": "ipython",
        "version": 3
      },
      "file_extension": ".py",
      "mimetype": "text/x-python",
      "name": "python",
      "nbconvert_exporter": "python",
      "pygments_lexer": "ipython3",
      "version": "3.11.5"
    },
    "colab": {
      "provenance": [],
      "include_colab_link": true
    }
  },
  "nbformat": 4,
  "nbformat_minor": 5
}